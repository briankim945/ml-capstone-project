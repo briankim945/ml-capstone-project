{
 "cells": [
  {
   "cell_type": "code",
   "execution_count": 23,
   "metadata": {
    "tags": []
   },
   "outputs": [
    {
     "name": "stderr",
     "output_type": "stream",
     "text": [
      "/Users/briankim/opt/anaconda3/lib/python3.8/site-packages/tensorflow_addons/utils/tfa_eol_msg.py:23: UserWarning: \n",
      "\n",
      "TensorFlow Addons (TFA) has ended development and introduction of new features.\n",
      "TFA has entered a minimal maintenance and release mode until a planned end of life in May 2024.\n",
      "Please modify downstream libraries to take dependencies from other repositories in our TensorFlow community (e.g. Keras, Keras-CV, and Keras-NLP). \n",
      "\n",
      "For more information see: https://github.com/tensorflow/addons/issues/2807 \n",
      "\n",
      "  warnings.warn(\n"
     ]
    }
   ],
   "source": [
    "import pandas as pd\n",
    "import numpy as np \n",
    "import matplotlib.pyplot as plt\n",
    "import os\n",
    "import json\n",
    "from PIL import Image\n",
    "%matplotlib inline\n",
    "from sklearn.utils import shuffle\n",
    "from sklearn.model_selection import train_test_split\n",
    "import cv2\n",
    "import random\n",
    "\n",
    "from sklearn.datasets import load_files   \n",
    "from glob import glob\n",
    "from keras import applications\n",
    "from keras.preprocessing.image import ImageDataGenerator \n",
    "from keras import optimizers\n",
    "from keras.models import Sequential,Model\n",
    "from keras.layers import Dense, Dropout, Flatten, Conv2D, MaxPool2D,GlobalAveragePooling2D\n",
    "from keras.callbacks import TensorBoard,ReduceLROnPlateau,ModelCheckpoint\n",
    "from tensorflow.keras.saving import load_model\n",
    "\n",
    "from tensorflow_addons.losses import SigmoidFocalCrossEntropy"
   ]
  },
  {
   "cell_type": "markdown",
   "metadata": {},
   "source": [
    "## Loading Data"
   ]
  },
  {
   "cell_type": "code",
   "execution_count": 4,
   "metadata": {
    "tags": []
   },
   "outputs": [
    {
     "data": {
      "text/plain": [
       "(3290,\n",
       " 3290,\n",
       " (2960, 200, 200, 3),\n",
       " (2960,),\n",
       " (329, 200, 200, 3),\n",
       " (329,),\n",
       " (2960,),\n",
       " (329,))"
      ]
     },
     "execution_count": 4,
     "metadata": {},
     "output_type": "execute_result"
    }
   ],
   "source": [
    "with open('./Data/X_train_v3.npy', 'rb') as f:\n",
    "    X_train = np.load(f)\n",
    "with open('./Data/y_train_v3.npy', 'rb') as f:\n",
    "    y_train = np.load(f)\n",
    "with open('./Data/X_test_v3.npy', 'rb') as f:\n",
    "    X_test = np.load(f)\n",
    "with open('./Data/y_test_v3.npy', 'rb') as f:\n",
    "    y_test = np.load(f)\n",
    "with open('./Data/shuffle_train_indices_v3.npy', 'rb') as f:\n",
    "    train_indices = np.load(f)\n",
    "with open('./Data/shuffle_test_indices_v3.npy', 'rb') as f:\n",
    "    test_indices = np.load(f)\n",
    "    \n",
    "with open('./Data/data_classes.json', 'r') as f:\n",
    "    data = json.load(f)\n",
    "\n",
    "files = []\n",
    "classes = []\n",
    "\n",
    "for i in range(len(data)):\n",
    "    if data[i][1] > -1:\n",
    "        files.append(data[i][0])\n",
    "        classes.append(data[i][1])\n",
    "\n",
    "len(files), len(classes), X_train.shape, y_train.shape, X_test.shape, y_test.shape, train_indices.shape, test_indices.shape"
   ]
  },
  {
   "cell_type": "markdown",
   "metadata": {},
   "source": [
    "## Testing and per class"
   ]
  },
  {
   "cell_type": "code",
   "execution_count": 14,
   "metadata": {},
   "outputs": [
    {
     "data": {
      "text/plain": [
       "['ResNet50v2',\n",
       " 'ResNet50v5_rus',\n",
       " 'ResNet50v6_focal',\n",
       " 'ResNet50v3',\n",
       " 'ResNet50v4',\n",
       " 'ResNet50v7_focal_sgd',\n",
       " 'ResNet50v1_norm',\n",
       " 'ResNet50v1',\n",
       " 'VGG16v1',\n",
       " 'VGG16_oversampling_v1',\n",
       " 'ResNet50v1_norm_focal']"
      ]
     },
     "execution_count": 14,
     "metadata": {},
     "output_type": "execute_result"
    }
   ],
   "source": [
    "models = [name for name in os.listdir(\"./ModelSaves\") if os.path.isdir(\"./ModelSaves/\" + name) and not \"_fh\" in name and not \"binary\" in name and not \"download\" in name]\n",
    "models"
   ]
  },
  {
   "cell_type": "code",
   "execution_count": 20,
   "metadata": {
    "tags": []
   },
   "outputs": [],
   "source": [
    "emotions = [\"Happiness\", \"Sadness\", \"Fear\", \"Disgust\", \"Anger\", \"Surprise\"]\n",
    "num_classes = len(emotions)"
   ]
  },
  {
   "cell_type": "code",
   "execution_count": 21,
   "metadata": {},
   "outputs": [],
   "source": [
    "y_test_eye = np.eye(num_classes)[y_test.reshape(-1)]"
   ]
  },
  {
   "cell_type": "code",
   "execution_count": 26,
   "metadata": {
    "tags": []
   },
   "outputs": [
    {
     "name": "stdout",
     "output_type": "stream",
     "text": [
      "=================================\n",
      "ResNet50v2\n",
      "0.5623100303951368\n",
      "Sadness [168, 231] 0.7272727272727273\n",
      "Fear [16, 69] 0.2318840579710145\n",
      "Happiness [1, 26] 0.038461538461538464\n",
      "Disgust [0, 2] 0.0\n",
      "Anger [0, 1] 0.0\n",
      "=================================\n",
      "ResNet50v5_rus\n",
      "0.0060790273556231\n",
      "Sadness [1, 231] 0.004329004329004329\n",
      "Fear [0, 69] 0.0\n",
      "Happiness [0, 26] 0.0\n",
      "Disgust [0, 2] 0.0\n",
      "Anger [1, 1] 1.0\n",
      "=================================\n",
      "ResNet50v6_focal\n",
      "0.7021276595744681\n",
      "Sadness [231, 231] 1.0\n",
      "Fear [0, 69] 0.0\n",
      "Happiness [0, 26] 0.0\n",
      "Disgust [0, 2] 0.0\n",
      "Anger [0, 1] 0.0\n",
      "=================================\n",
      "ResNet50v3\n",
      "0.5835866261398176\n",
      "Sadness [176, 231] 0.7619047619047619\n",
      "Fear [14, 69] 0.2028985507246377\n",
      "Happiness [2, 26] 0.07692307692307693\n",
      "Disgust [0, 2] 0.0\n",
      "Anger [0, 1] 0.0\n",
      "=================================\n",
      "ResNet50v4\n",
      "0.6200607902735562\n",
      "Sadness [196, 231] 0.8484848484848485\n",
      "Fear [7, 69] 0.10144927536231885\n",
      "Happiness [1, 26] 0.038461538461538464\n",
      "Disgust [0, 2] 0.0\n",
      "Anger [0, 1] 0.0\n",
      "=================================\n",
      "ResNet50v7_focal_sgd\n",
      "0.6990881458966566\n",
      "Sadness [229, 231] 0.9913419913419913\n",
      "Fear [1, 69] 0.014492753623188406\n",
      "Happiness [0, 26] 0.0\n",
      "Disgust [0, 2] 0.0\n",
      "Anger [0, 1] 0.0\n",
      "=================================\n",
      "ResNet50v1_norm\n",
      "0.6443768996960486\n",
      "Sadness [207, 231] 0.8961038961038961\n",
      "Fear [5, 69] 0.07246376811594203\n",
      "Happiness [0, 26] 0.0\n",
      "Disgust [0, 2] 0.0\n",
      "Anger [0, 1] 0.0\n",
      "=================================\n",
      "ResNet50v1\n",
      "0.5835866261398176\n",
      "Sadness [189, 231] 0.8181818181818182\n",
      "Fear [3, 69] 0.043478260869565216\n",
      "Happiness [0, 26] 0.0\n",
      "Disgust [0, 2] 0.0\n",
      "Anger [0, 1] 0.0\n",
      "=================================\n",
      "VGG16v1\n",
      "0.6231003039513677\n",
      "Sadness [195, 231] 0.8441558441558441\n",
      "Fear [10, 69] 0.14492753623188406\n",
      "Happiness [0, 26] 0.0\n",
      "Disgust [0, 2] 0.0\n",
      "Anger [0, 1] 0.0\n",
      "=================================\n",
      "VGG16_oversampling_v1\n",
      "0.601823708206687\n",
      "Sadness [190, 231] 0.8225108225108225\n",
      "Fear [7, 69] 0.10144927536231885\n",
      "Happiness [1, 26] 0.038461538461538464\n",
      "Disgust [0, 2] 0.0\n",
      "Anger [0, 1] 0.0\n",
      "=================================\n",
      "ResNet50v1_norm_focal\n",
      "0.7021276595744681\n",
      "Sadness [231, 231] 1.0\n",
      "Fear [0, 69] 0.0\n",
      "Happiness [0, 26] 0.0\n",
      "Disgust [0, 2] 0.0\n",
      "Anger [0, 1] 0.0\n"
     ]
    }
   ],
   "source": [
    "directory = \"./ModelSaves/\"\n",
    "for model_name in models:\n",
    "    print(\"=================================\")\n",
    "    print(model_name)\n",
    "    model = load_model(directory + model_name)\n",
    "    preds = model(X_test)\n",
    "    print(np.sum(np.argmax(preds, axis=1) == np.argmax(y_test_eye, axis=1)) / len(y_test))\n",
    "    \n",
    "    scores = {}\n",
    "    for i in range(len(y_test)):\n",
    "        real_class = y_test[i]\n",
    "        pred_class = np.argmax(preds[i])\n",
    "        if real_class in scores:\n",
    "            scores[real_class] = [scores[real_class][0] + int(real_class == pred_class), scores[real_class][1] + 1]\n",
    "        else:\n",
    "            scores[real_class] = [int(real_class == pred_class), 1]\n",
    "            \n",
    "    for key in list(scores.keys()):\n",
    "        print(emotions[key], scores[key], scores[key][0] / scores[key][1])"
   ]
  },
  {
   "cell_type": "markdown",
   "metadata": {},
   "source": [
    "## Testing Binary and Multiclass"
   ]
  },
  {
   "cell_type": "code",
   "execution_count": 27,
   "metadata": {},
   "outputs": [],
   "source": [
    "y_test_binary = np.array([0 if i != 1 else 1 for i in y_test])\n",
    "y_test_binary_eye = np.eye(num_classes)[y_test_binary.reshape(-1)]\n",
    "\n",
    "y_test_df = pd.Series(y_test)\n",
    "test_mask = (y_test_df == 0) | (y_test_df == 2)\n",
    "y_test_fh = y_test_df[test_mask]\n",
    "y_test_fh = y_test_fh.replace(2,1)"
   ]
  },
  {
   "cell_type": "code",
   "execution_count": 28,
   "metadata": {},
   "outputs": [],
   "source": [
    "model_bin = load_model('./ModelSaves/ResNet_binary_v2')\n",
    "model_fh = load_model('./ModelSaves/ResNet_binary_fh_v3')"
   ]
  },
  {
   "cell_type": "code",
   "execution_count": 48,
   "metadata": {},
   "outputs": [
    {
     "name": "stdout",
     "output_type": "stream",
     "text": [
      "(329, 200, 200, 3) (329, 5)\n",
      "329 329\n",
      "Sadness [226, 231] 0.9783549783549783\n",
      "Fear [65, 69] 0.9420289855072463\n",
      "Happiness [22, 26] 0.8461538461538461\n",
      "Disgust [0, 2] 0.0\n",
      "Anger [0, 1] 0.0\n"
     ]
    }
   ],
   "source": [
    "emotions_trunc =[\"Happiness\", \"Sadness\", \"Fear\"]\n",
    "\n",
    "preds_bin = model_bin(X_test)\n",
    "\n",
    "non_sad_mask = pd.Series(np.argmax(preds_bin, axis=1)) != 1\n",
    "sad_mask = pd.Series(np.argmax(preds_bin, axis=1)) == 1\n",
    "\n",
    "hap_mask = pd.Series(np.argmax(y_test)) == 0\n",
    "fear_mask = pd.Series(np.argmax(y_test)) == 2\n",
    "\n",
    "print(X_test.shape, preds_bin.shape)\n",
    "preds_fh = model_fh(X_test[non_sad_mask])\n",
    "\n",
    "combined_preds = []\n",
    "\n",
    "fh_i = 0\n",
    "for i, val in enumerate(sad_mask):\n",
    "    if val:\n",
    "        combined_preds.append(np.argmax(preds_bin[i]))\n",
    "    else:\n",
    "        if np.argmax(preds_fh[fh_i]) == 1:\n",
    "            combined_preds.append(2)\n",
    "        else:\n",
    "            combined_preds.append(np.argmax(preds_fh[fh_i]))\n",
    "        fh_i += 1\n",
    "        \n",
    "print(len(y_test), len(combined_preds))\n",
    "\n",
    "scores = {}\n",
    "for i in range(len(y_test)):\n",
    "    real_class = y_test[i]\n",
    "    pred_class = combined_preds[i]\n",
    "    if real_class in scores:\n",
    "        scores[real_class] = [scores[real_class][0] + int(real_class == pred_class), scores[real_class][1] + 1]\n",
    "    else:\n",
    "        scores[real_class] = [int(real_class == pred_class), 1]\n",
    "\n",
    "for key in list(scores.keys()):\n",
    "    print(emotions[key], scores[key], scores[key][0] / scores[key][1])"
   ]
  },
  {
   "cell_type": "code",
   "execution_count": 50,
   "metadata": {},
   "outputs": [
    {
     "data": {
      "text/plain": [
       "((329,), (329,))"
      ]
     },
     "execution_count": 50,
     "metadata": {},
     "output_type": "execute_result"
    }
   ],
   "source": [
    "y_test.shape, np.array(combined_preds).shape"
   ]
  },
  {
   "cell_type": "code",
   "execution_count": 54,
   "metadata": {},
   "outputs": [
    {
     "name": "stdout",
     "output_type": "stream",
     "text": [
      "313 329 0.9513677811550152\n"
     ]
    }
   ],
   "source": [
    "counting = sum(np.array(y_test) == np.array(combined_preds))\n",
    "print(counting, len(y_test), counting / len(y_test))"
   ]
  },
  {
   "cell_type": "code",
   "execution_count": null,
   "metadata": {},
   "outputs": [],
   "source": []
  }
 ],
 "metadata": {
  "kernelspec": {
   "display_name": "Python 3",
   "language": "python",
   "name": "python3"
  },
  "language_info": {
   "codemirror_mode": {
    "name": "ipython",
    "version": 3
   },
   "file_extension": ".py",
   "mimetype": "text/x-python",
   "name": "python",
   "nbconvert_exporter": "python",
   "pygments_lexer": "ipython3",
   "version": "3.8.3"
  }
 },
 "nbformat": 4,
 "nbformat_minor": 5
}
