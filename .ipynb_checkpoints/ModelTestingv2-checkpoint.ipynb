{
 "cells": [
  {
   "cell_type": "markdown",
   "id": "b8ebfd7e-a211-400c-a578-e65b299ec3f4",
   "metadata": {},
   "source": [
    "# Experimenting with (hopefully) fixed inputs"
   ]
  },
  {
   "cell_type": "markdown",
   "id": "d57c1318-674f-4205-a0e2-c8209c86548e",
   "metadata": {},
   "source": [
    "## ResNet-50"
   ]
  },
  {
   "cell_type": "code",
   "execution_count": null,
   "id": "e3bc5f77-53b9-4955-a262-6bfcde867b6f",
   "metadata": {
    "tags": []
   },
   "outputs": [],
   "source": [
    "import pandas as pd\n",
    "import numpy as np \n",
    "import matplotlib.pyplot as plt\n",
    "import os\n",
    "import json\n",
    "from PIL import Image\n",
    "%matplotlib inline\n",
    "from sklearn.utils import shuffle\n",
    "from sklearn.model_selection import train_test_split\n",
    "import cv2\n",
    "import random\n",
    "\n",
    "from sklearn.datasets import load_files   \n",
    "from glob import glob\n",
    "from keras import applications\n",
    "from keras.preprocessing.image import ImageDataGenerator \n",
    "from keras import optimizers\n",
    "from keras.models import Sequential,Model\n",
    "from keras.layers import Dense, Dropout, Flatten, Conv2D, MaxPool2D,GlobalAveragePooling2D\n",
    "from keras.callbacks import TensorBoard,ReduceLROnPlateau,ModelCheckpoint\n",
    "\n",
    "from imblearn.over_sampling import RandomOverSampler, SMOTE\n",
    "from imblearn.under_sampling import RandomUnderSampler"
   ]
  },
  {
   "cell_type": "markdown",
   "id": "b0bd3938-9467-411e-aa56-83af6e85340f",
   "metadata": {},
   "source": [
    "### Loading and splitting data"
   ]
  },
  {
   "cell_type": "code",
   "execution_count": 9,
   "id": "bccfe785-7ebf-406c-b552-26b49c99d898",
   "metadata": {
    "tags": []
   },
   "outputs": [],
   "source": [
    "with open('./Data/data_2.json', 'r', encoding='UTF-8') as f:\n",
    "    data = json.load(f)\n",
    "\n",
    "book_links = data['book_links']\n",
    "shelf_links = data['shelves']\n",
    "shelf_values = data['shelf_values']"
   ]
  },
  {
   "cell_type": "code",
   "execution_count": 10,
   "id": "4e1324d2-73a5-49f9-ae5f-b518cb260a17",
   "metadata": {
    "tags": []
   },
   "outputs": [],
   "source": [
    "with open('./Data/data_classes.json', 'r') as f:\n",
    "    data = json.load(f)\n",
    "\n",
    "files = []\n",
    "classes = []\n",
    "\n",
    "for i in range(len(data)):\n",
    "    if data[i][1] > -1:\n",
    "        files.append(data[i][0])\n",
    "        classes.append(data[i][1])"
   ]
  },
  {
   "cell_type": "code",
   "execution_count": 11,
   "id": "6209348b-923f-433b-80d9-20605ac56bae",
   "metadata": {
    "tags": []
   },
   "outputs": [],
   "source": [
    "directory = \"./Data/data/images/\""
   ]
  },
  {
   "cell_type": "code",
   "execution_count": 12,
   "id": "d80364df-6e31-4f99-94db-71d021b9068d",
   "metadata": {
    "tags": []
   },
   "outputs": [],
   "source": [
    "dimensions = (200, 200)\n",
    "num_classes = 5"
   ]
  },
  {
   "cell_type": "code",
   "execution_count": 13,
   "id": "97de0da4-caa5-45b4-9902-1d5f664f2891",
   "metadata": {
    "tags": []
   },
   "outputs": [],
   "source": [
    "shuffle_indices = shuffle(range(len(files)))\n",
    "train_indices, test_indices = train_test_split(shuffle_indices, test_size=0.25)"
   ]
  },
  {
   "cell_type": "code",
   "execution_count": 14,
   "id": "f28115c2-fe47-4e15-93c5-fab854fb1c2b",
   "metadata": {
    "tags": []
   },
   "outputs": [],
   "source": [
    "X_train = []\n",
    "y_train = []\n",
    "\n",
    "for i in train_indices:\n",
    "    filename = directory + str(i) + \".jpg\"\n",
    "    if os.path.isfile(filename):\n",
    "        X_train.append(cv2.resize(cv2.imread(filename), dimensions, interpolation=cv2.INTER_LINEAR))\n",
    "        y_train.append(classes[i])\n",
    "        \n",
    "X_train = np.array(X_train)\n",
    "y_train = np.array(y_train)\n",
    "\n",
    "X_test = []\n",
    "y_test = []\n",
    "\n",
    "for i in test_indices:\n",
    "    filename = directory + str(i) + \".jpg\"\n",
    "    if os.path.isfile(filename):\n",
    "        X_test.append(cv2.resize(cv2.imread(filename), dimensions, interpolation=cv2.INTER_LINEAR))\n",
    "        y_test.append(classes[i])\n",
    "        \n",
    "X_test = np.array(X_test)\n",
    "y_test = np.array(y_test)"
   ]
  },
  {
   "cell_type": "code",
   "execution_count": 15,
   "id": "d5dfa2b2-4724-468d-a8b9-e4b8a59cc740",
   "metadata": {
    "tags": []
   },
   "outputs": [
    {
     "data": {
      "text/plain": [
       "((2464, 200, 200, 3), (2464,), (823, 200, 200, 3), (823,))"
      ]
     },
     "execution_count": 15,
     "metadata": {},
     "output_type": "execute_result"
    }
   ],
   "source": [
    "X_train.shape, y_train.shape, X_test.shape, y_test.shape"
   ]
  },
  {
   "cell_type": "code",
   "execution_count": 36,
   "id": "0d9f9c96-ff6b-488c-adbd-cbd6ea57cfe8",
   "metadata": {},
   "outputs": [],
   "source": [
    "# X_train, X_test, y_train, y_test = train_test_split(X, y, test_size=0.25)"
   ]
  },
  {
   "cell_type": "code",
   "execution_count": null,
   "id": "aa7c89ed-9717-48dc-9ed7-52507303992d",
   "metadata": {},
   "outputs": [],
   "source": [
    "# # Normalize image vectors\n",
    "# X_train = X_train/255.\n",
    "# X_test = X_test/255."
   ]
  },
  {
   "cell_type": "code",
   "execution_count": 37,
   "id": "a54684a2-efb7-4fe3-abb7-0cf95410755b",
   "metadata": {},
   "outputs": [
    {
     "data": {
      "text/plain": [
       "(array([2, 1, 1, 1, 1]),\n",
       " array([1, 1, 1, 2, 1]),\n",
       " array([[0., 0., 1., 0., 0.],\n",
       "        [0., 1., 0., 0., 0.],\n",
       "        [0., 1., 0., 0., 0.],\n",
       "        [0., 1., 0., 0., 0.],\n",
       "        [0., 1., 0., 0., 0.]]),\n",
       " array([[0., 1., 0., 0., 0.],\n",
       "        [0., 1., 0., 0., 0.],\n",
       "        [0., 1., 0., 0., 0.],\n",
       "        [0., 0., 1., 0., 0.],\n",
       "        [0., 1., 0., 0., 0.]]))"
      ]
     },
     "execution_count": 37,
     "metadata": {},
     "output_type": "execute_result"
    }
   ],
   "source": [
    "y_train[0:5], y_test[0:5], np.eye(num_classes)[y_train.reshape(-1)][0:5], np.eye(num_classes)[y_test.reshape(-1)][0:5]"
   ]
  }
 ],
 "metadata": {
  "kernelspec": {
   "display_name": "Python 3 (ipykernel)",
   "language": "python",
   "name": "python3"
  },
  "language_info": {
   "codemirror_mode": {
    "name": "ipython",
    "version": 3
   },
   "file_extension": ".py",
   "mimetype": "text/x-python",
   "name": "python",
   "nbconvert_exporter": "python",
   "pygments_lexer": "ipython3",
   "version": "3.11.3"
  }
 },
 "nbformat": 4,
 "nbformat_minor": 5
}
