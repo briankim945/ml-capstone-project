{
 "cells": [
  {
   "cell_type": "code",
   "execution_count": 14,
   "id": "0f149b89-aa01-4982-9b76-c0072b1140f6",
   "metadata": {
    "tags": []
   },
   "outputs": [
    {
     "name": "stderr",
     "output_type": "stream",
     "text": [
      "C:\\Users\\Brian\\AppData\\Local\\Programs\\Python\\Python311\\Lib\\site-packages\\tensorflow_addons\\utils\\tfa_eol_msg.py:23: UserWarning: \n",
      "\n",
      "TensorFlow Addons (TFA) has ended development and introduction of new features.\n",
      "TFA has entered a minimal maintenance and release mode until a planned end of life in May 2024.\n",
      "Please modify downstream libraries to take dependencies from other repositories in our TensorFlow community (e.g. Keras, Keras-CV, and Keras-NLP). \n",
      "\n",
      "For more information see: https://github.com/tensorflow/addons/issues/2807 \n",
      "\n",
      "  warnings.warn(\n"
     ]
    }
   ],
   "source": [
    "import pandas as pd\n",
    "import numpy as np \n",
    "import matplotlib.pyplot as plt\n",
    "import os\n",
    "import json\n",
    "from PIL import Image\n",
    "%matplotlib inline\n",
    "from sklearn.utils import shuffle\n",
    "from sklearn.model_selection import train_test_split\n",
    "import cv2\n",
    "import random\n",
    "\n",
    "from sklearn.datasets import load_files   \n",
    "from glob import glob\n",
    "from keras import applications\n",
    "from keras.preprocessing.image import ImageDataGenerator \n",
    "from keras import optimizers\n",
    "from keras.models import Sequential,Model\n",
    "from keras.layers import Dense, Dropout, Flatten, Conv2D, MaxPool2D,GlobalAveragePooling2D\n",
    "from keras.callbacks import TensorBoard,ReduceLROnPlateau,ModelCheckpoint\n",
    "from tensorflow.keras.saving import load_model\n",
    "from tensorflow_addons.losses import SigmoidFocalCrossEntropy\n",
    "\n",
    "from imblearn.over_sampling import RandomOverSampler, SMOTE\n",
    "from imblearn.under_sampling import RandomUnderSampler"
   ]
  },
  {
   "cell_type": "code",
   "execution_count": 6,
   "id": "9ca546bc-f0df-415b-a15d-aa7da4a5690a",
   "metadata": {
    "tags": []
   },
   "outputs": [],
   "source": [
    "with open('./Data/X_test.npy', 'rb') as f:\n",
    "    X_test = np.load(f)\n",
    "with open('./Data/y_test.npy', 'rb') as f:\n",
    "    y_test = np.load(f)"
   ]
  },
  {
   "cell_type": "code",
   "execution_count": 8,
   "id": "bb3a722f-87f4-445a-8dae-2884437e7e1a",
   "metadata": {
    "tags": []
   },
   "outputs": [],
   "source": [
    "y_test_eye = np.eye(5)[y_test.reshape(-1)]"
   ]
  },
  {
   "cell_type": "code",
   "execution_count": 9,
   "id": "2441348e-773a-40ac-83e3-c1187686b71b",
   "metadata": {
    "tags": []
   },
   "outputs": [],
   "source": [
    "emotions = [\"Happiness\", \"Sadness\", \"Fear\", \"Disgust\", \"Anger\", \"Surprise\"]"
   ]
  },
  {
   "cell_type": "code",
   "execution_count": 12,
   "id": "d5f2cfcc-d2ee-415d-b3ae-f5cb4ab279a1",
   "metadata": {
    "tags": []
   },
   "outputs": [],
   "source": [
    "models = [\n",
    "    './ModelSaves/ResNet50v4',\n",
    "    './ModelSaves/ResNet50v5_rus',\n",
    "    './ModelSaves/ResNet50v6_focal',\n",
    "    './ModelSaves/ResNet50v7_focal_sgd',\n",
    "    './ModelSaves/ResNet50v1_norm',\n",
    "]"
   ]
  },
  {
   "cell_type": "code",
   "execution_count": null,
   "id": "207e58be-3fab-4bf2-a69b-a37b46806cfb",
   "metadata": {
    "tags": []
   },
   "outputs": [
    {
     "name": "stdout",
     "output_type": "stream",
     "text": [
      "./ModelSaves/ResNet50v4\n"
     ]
    }
   ],
   "source": [
    "for model_name in models:\n",
    "    print(model_name)\n",
    "    model = load_model(model_name)\n",
    "    preds = model(X_test)\n",
    "    print(np.sum(np.argmax(preds, axis=1) == np.argmax(y_test_eye, axis=1)) / len(y_test))\n",
    "    \n",
    "    scores = {}\n",
    "    for i in range(len(y_test)):\n",
    "        real_class = y_test[i]\n",
    "        pred_class = np.argmax(preds[i])\n",
    "        if real_class in scores:\n",
    "            scores[real_class] = [scores[real_class][0] + int(real_class == pred_class), scores[real_class][1] + 1]\n",
    "        else:\n",
    "            scores[real_class] = [int(real_class == pred_class), 1]\n",
    "            \n",
    "    for key in list(scores.keys()):\n",
    "        print(emotions[key], scores[key], scores[key][0] / scores[key][1])"
   ]
  },
  {
   "cell_type": "code",
   "execution_count": null,
   "id": "f267d763-7202-4711-8779-904228a948f2",
   "metadata": {},
   "outputs": [],
   "source": []
  }
 ],
 "metadata": {
  "kernelspec": {
   "display_name": "Python 3 (ipykernel)",
   "language": "python",
   "name": "python3"
  },
  "language_info": {
   "codemirror_mode": {
    "name": "ipython",
    "version": 3
   },
   "file_extension": ".py",
   "mimetype": "text/x-python",
   "name": "python",
   "nbconvert_exporter": "python",
   "pygments_lexer": "ipython3",
   "version": "3.11.3"
  }
 },
 "nbformat": 4,
 "nbformat_minor": 5
}
