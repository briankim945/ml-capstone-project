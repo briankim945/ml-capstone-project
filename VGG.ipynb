{
 "cells": [
  {
   "cell_type": "code",
   "execution_count": 15,
   "metadata": {
    "tags": []
   },
   "outputs": [],
   "source": [
    "import pandas as pd\n",
    "import numpy as np \n",
    "import matplotlib.pyplot as plt\n",
    "import os\n",
    "import json\n",
    "from PIL import Image\n",
    "%matplotlib inline\n",
    "from sklearn.utils import shuffle\n",
    "from sklearn.model_selection import train_test_split\n",
    "import cv2\n",
    "import random\n",
    "\n",
    "import tensorflow as tf\n",
    "# Needed for VGG16\n",
    "tf.config.run_functions_eagerly(True)\n",
    "\n",
    "from sklearn.datasets import load_files   \n",
    "from glob import glob\n",
    "from keras import applications\n",
    "from keras.preprocessing.image import ImageDataGenerator \n",
    "from keras import optimizers\n",
    "from keras.models import Sequential,Model\n",
    "from keras.layers import Dense, Dropout, Flatten, Conv2D, MaxPool2D,GlobalAveragePooling2D\n",
    "from keras.callbacks import TensorBoard,ReduceLROnPlateau,ModelCheckpoint\n",
    "from tensorflow.keras.saving import load_model\n",
    "from tensorflow_addons.losses import SigmoidFocalCrossEntropy\n",
    "\n",
    "from imblearn.over_sampling import RandomOverSampler, SMOTE\n",
    "from imblearn.under_sampling import RandomUnderSampler"
   ]
  },
  {
   "cell_type": "markdown",
   "metadata": {},
   "source": [
    "# Loading Data (Numpy)"
   ]
  },
  {
   "cell_type": "code",
   "execution_count": 2,
   "metadata": {
    "tags": []
   },
   "outputs": [],
   "source": [
    "with open('./Data/X_train.npy', 'rb') as f:\n",
    "    X_train = np.load(f)\n",
    "with open('./Data/y_train.npy', 'rb') as f:\n",
    "    y_train = np.load(f)\n",
    "with open('./Data/X_test.npy', 'rb') as f:\n",
    "    X_test = np.load(f)\n",
    "with open('./Data/y_test.npy', 'rb') as f:\n",
    "    y_test = np.load(f)"
   ]
  },
  {
   "cell_type": "code",
   "execution_count": 3,
   "metadata": {
    "tags": []
   },
   "outputs": [],
   "source": [
    "dimensions = (200, 200)\n",
    "num_classes = 5"
   ]
  },
  {
   "cell_type": "markdown",
   "metadata": {},
   "source": [
    "# VGG16"
   ]
  },
  {
   "cell_type": "code",
   "execution_count": 4,
   "metadata": {
    "tags": []
   },
   "outputs": [],
   "source": [
    "# Necessary for ResNet Dense Layer\n",
    "y_train_eye = np.eye(num_classes)[y_train.reshape(-1)]\n",
    "y_test_eye = np.eye(num_classes)[y_test.reshape(-1)]"
   ]
  },
  {
   "cell_type": "code",
   "execution_count": 5,
   "metadata": {
    "tags": []
   },
   "outputs": [],
   "source": [
    "from tensorflow.keras.applications.vgg16 import VGG16"
   ]
  },
  {
   "cell_type": "code",
   "execution_count": 10,
   "metadata": {
    "tags": []
   },
   "outputs": [],
   "source": [
    "#If imagenet weights are being loaded, \n",
    "#input must have a static square shape (one of (128, 128), (160, 160), (192, 192), or (224, 224))\n",
    "base_model = VGG16(weights= None, include_top=False, input_shape=(dimensions[0], dimensions[1], 3))"
   ]
  },
  {
   "cell_type": "code",
   "execution_count": 11,
   "metadata": {
    "tags": []
   },
   "outputs": [],
   "source": [
    "x = base_model.output\n",
    "x = GlobalAveragePooling2D()(x)\n",
    "x = Dropout(0.7)(x)\n",
    "predictions = Dense(num_classes, activation='softmax')(x)\n",
    "model = Model(inputs=base_model.input, outputs=predictions)"
   ]
  },
  {
   "cell_type": "code",
   "execution_count": 12,
   "metadata": {
    "tags": []
   },
   "outputs": [],
   "source": [
    "from keras.optimizers import SGD, Adam\n",
    "# sgd = SGD(learning_rate=lrate, momentum=0.9, decay=decay, nesterov=False)\n",
    "adam = Adam(learning_rate=0.0001)\n",
    "model.compile(optimizer=adam, loss='categorical_crossentropy', metrics=['accuracy'])"
   ]
  },
  {
   "cell_type": "code",
   "execution_count": 14,
   "metadata": {},
   "outputs": [
    {
     "name": "stdout",
     "output_type": "stream",
     "text": [
      "Epoch 1/25\n",
      "132/132 [==============================] - 1180s 9s/step - loss: 2.0631 - accuracy: 0.3792\n",
      "Epoch 2/25\n",
      "132/132 [==============================] - 1125s 9s/step - loss: 1.0150 - accuracy: 0.6178\n",
      "Epoch 3/25\n",
      "132/132 [==============================] - 1115s 8s/step - loss: 0.7566 - accuracy: 0.6878\n",
      "Epoch 4/25\n",
      "132/132 [==============================] - 1116s 8s/step - loss: 0.5423 - accuracy: 0.7667\n",
      "Epoch 5/25\n",
      "132/132 [==============================] - 1146s 9s/step - loss: 0.4451 - accuracy: 0.8000\n",
      "Epoch 6/25\n",
      "132/132 [==============================] - 1203s 9s/step - loss: 0.3526 - accuracy: 0.8447\n",
      "Epoch 7/25\n",
      "132/132 [==============================] - 1156s 9s/step - loss: 0.2993 - accuracy: 0.8807\n",
      "Epoch 8/25\n",
      "132/132 [==============================] - 1153s 9s/step - loss: 0.2514 - accuracy: 0.8953\n",
      "Epoch 9/25\n",
      "132/132 [==============================] - 1194s 9s/step - loss: 0.1634 - accuracy: 0.9361\n",
      "Epoch 10/25\n",
      "132/132 [==============================] - 1108s 8s/step - loss: 0.1738 - accuracy: 0.9308\n",
      "Epoch 11/25\n",
      "132/132 [==============================] - 1095s 8s/step - loss: 0.1203 - accuracy: 0.9565\n",
      "Epoch 12/25\n",
      "132/132 [==============================] - 1112s 8s/step - loss: 0.0854 - accuracy: 0.9713\n",
      "Epoch 13/25\n",
      "132/132 [==============================] - 1075s 8s/step - loss: 0.0921 - accuracy: 0.9698\n",
      "Epoch 14/25\n",
      "132/132 [==============================] - 1080s 8s/step - loss: 0.1828 - accuracy: 0.9304\n",
      "Epoch 15/25\n",
      "132/132 [==============================] - 1075s 8s/step - loss: 0.0799 - accuracy: 0.9717\n",
      "Epoch 16/25\n",
      "132/132 [==============================] - 1074s 8s/step - loss: 0.0647 - accuracy: 0.9783\n",
      "Epoch 17/25\n",
      "132/132 [==============================] - 1071s 8s/step - loss: 0.0692 - accuracy: 0.9755\n",
      "Epoch 18/25\n",
      "132/132 [==============================] - 1080s 8s/step - loss: 0.0403 - accuracy: 0.9863\n",
      "Epoch 19/25\n",
      "132/132 [==============================] - 1082s 8s/step - loss: 0.0521 - accuracy: 0.9819\n",
      "Epoch 20/25\n",
      "132/132 [==============================] - 1087s 8s/step - loss: 0.0699 - accuracy: 0.9778\n",
      "Epoch 21/25\n",
      "132/132 [==============================] - 1074s 8s/step - loss: 0.0604 - accuracy: 0.9787\n",
      "Epoch 22/25\n",
      "132/132 [==============================] - 1062s 8s/step - loss: 0.0521 - accuracy: 0.9824\n",
      "Epoch 23/25\n",
      "132/132 [==============================] - 1069s 8s/step - loss: 0.0676 - accuracy: 0.9754\n",
      "Epoch 24/25\n",
      "132/132 [==============================] - 1067s 8s/step - loss: 0.0719 - accuracy: 0.9813\n",
      "Epoch 25/25\n",
      "132/132 [==============================] - 1080s 8s/step - loss: 0.0240 - accuracy: 0.9933\n"
     ]
    },
    {
     "data": {
      "text/plain": [
       "<keras.callbacks.History at 0x7fa4857f4bb0>"
      ]
     },
     "execution_count": 14,
     "metadata": {},
     "output_type": "execute_result"
    }
   ],
   "source": [
    "model.fit(X_train_ros, y_train_ros, epochs=50, batch_size=64)"
   ]
  },
  {
   "cell_type": "code",
   "execution_count": 15,
   "metadata": {
    "tags": []
   },
   "outputs": [
    {
     "name": "stderr",
     "output_type": "stream",
     "text": [
      "WARNING:absl:Found untraced functions such as _jit_compiled_convolution_op, _jit_compiled_convolution_op, _jit_compiled_convolution_op, _jit_compiled_convolution_op, _jit_compiled_convolution_op while saving (showing 5 of 13). These functions will not be directly callable after loading.\n"
     ]
    },
    {
     "name": "stdout",
     "output_type": "stream",
     "text": [
      "INFO:tensorflow:Assets written to: ./ModelSaves/VGG16v1\\assets\n"
     ]
    },
    {
     "name": "stderr",
     "output_type": "stream",
     "text": [
      "INFO:tensorflow:Assets written to: ./ModelSaves/VGG16v1\\assets\n"
     ]
    }
   ],
   "source": [
    "model.save('./ModelSaves/VGG16v1')"
   ]
  },
  {
   "cell_type": "code",
   "execution_count": 6,
   "metadata": {
    "tags": []
   },
   "outputs": [],
   "source": [
    "model = load_model('./ModelSaves/VGG16v1')"
   ]
  },
  {
   "cell_type": "code",
   "execution_count": 7,
   "metadata": {
    "tags": []
   },
   "outputs": [
    {
     "name": "stdout",
     "output_type": "stream",
     "text": [
      "26/26 [==============================] - 131s 5s/step - loss: 2.4212 - accuracy: 0.6185\n",
      "Loss = 2.4211628437042236\n",
      "Test Accuracy = 0.6184689998626709\n"
     ]
    }
   ],
   "source": [
    "preds = model.evaluate(X_test, y_test_eye)\n",
    "print (\"Loss = \" + str(preds[0]))\n",
    "print (\"Test Accuracy = \" + str(preds[1]))"
   ]
  },
  {
   "cell_type": "code",
   "execution_count": null,
   "metadata": {
    "tags": []
   },
   "outputs": [],
   "source": [
    "preds = model(X_test)"
   ]
  },
  {
   "cell_type": "code",
   "execution_count": null,
   "metadata": {
    "tags": []
   },
   "outputs": [],
   "source": [
    "preds[0:5]"
   ]
  },
  {
   "cell_type": "code",
   "execution_count": null,
   "metadata": {
    "tags": []
   },
   "outputs": [],
   "source": [
    "np.sum(np.argmax(preds, axis=1) == np.argmax(y_test_norm, axis=1)) / len(y_test)"
   ]
  },
  {
   "cell_type": "code",
   "execution_count": null,
   "metadata": {
    "tags": []
   },
   "outputs": [],
   "source": [
    "np.unique(np.argmax(preds, axis=1), return_counts=True)"
   ]
  },
  {
   "cell_type": "code",
   "execution_count": null,
   "metadata": {
    "tags": []
   },
   "outputs": [],
   "source": [
    "emotions = [\"Happiness\", \"Sadness\", \"Fear\", \"Disgust\", \"Anger\", \"Surprise\"]\n",
    "\n",
    "emotion_presence = set()\n",
    "\n",
    "rands = []\n",
    "\n",
    "shuffle_indices = shuffle(range(len(preds)))\n",
    "\n",
    "for i in shuffle_indices:\n",
    "    if emotions[classes[i]] not in emotion_presence and np.argmax(preds[i]) == classes[i]:\n",
    "        rands.append(i)\n",
    "        emotion_presence.add(emotions[classes[i]])\n",
    "\n",
    "print(len(rands))\n",
    "\n",
    "while len(rands) < 5:\n",
    "    pos = random.randint(0, len(test_indices) - 1)\n",
    "    if emotions[classes[test_indices[pos]]] not in emotion_presence:\n",
    "        rands.append(pos)\n",
    "        emotion_presence.add(emotions[classes[test_indices[pos]]])\n",
    "\n",
    "# actuals = [test_indices[pos] for pos in rands]\n",
    "\n",
    "for i in range(len(actuals)):\n",
    "    print('========================================================')\n",
    "    print(book_links[actuals[i]])\n",
    "    display(Image.fromarray((X_test[rands[i]] * 255).astype(np.uint8)))\n",
    "    print(emotions[np.argmax(preds[i])])\n",
    "    im = Image.open(directory + str(actuals[i]) + \".jpg\")\n",
    "    im.thumbnail(dimensions, Image.ANTIALIAS)\n",
    "    display(im)\n",
    "    print(emotions[classes[actuals[i]]])\n",
    "    print('========================================================')"
   ]
  },
  {
   "cell_type": "code",
   "execution_count": null,
   "metadata": {
    "tags": []
   },
   "outputs": [],
   "source": [
    "scores = {}\n",
    "for i in range(len(y_test)):\n",
    "    real_class = y_test[i]\n",
    "    pred_class = np.argmax(preds[i])\n",
    "    if real_class in scores:\n",
    "        scores[real_class] = [scores[real_class][0] + int(real_class == pred_class), scores[real_class][1] + 1]\n",
    "    else:\n",
    "        scores[real_class] = [int(real_class == pred_class), 1]"
   ]
  },
  {
   "cell_type": "code",
   "execution_count": null,
   "metadata": {
    "tags": []
   },
   "outputs": [],
   "source": [
    "for key in list(scores.keys()):\n",
    "    print(key, scores[key], scores[key][0] / scores[key][1])"
   ]
  },
  {
   "cell_type": "markdown",
   "metadata": {},
   "source": [
    "# Oversampling"
   ]
  },
  {
   "cell_type": "code",
   "execution_count": 4,
   "metadata": {
    "tags": []
   },
   "outputs": [
    {
     "data": {
      "text/plain": [
       "((8305, 200, 200, 3), (8305,))"
      ]
     },
     "execution_count": 4,
     "metadata": {},
     "output_type": "execute_result"
    }
   ],
   "source": [
    "ros = RandomOverSampler()\n",
    "\n",
    "X_train_ros, y_train_ros = ros.fit_resample(\n",
    "    X_train.reshape((-1, X_train.shape[1] * X_train.shape[2] * X_train.shape[3])),\n",
    "    y_train\n",
    ")\n",
    "\n",
    "X_train_ros = X_train_ros.reshape((-1, X_train.shape[1], X_train.shape[2], X_train.shape[3]))\n",
    "X_train_ros.shape, y_train_ros.shape"
   ]
  },
  {
   "cell_type": "code",
   "execution_count": 8,
   "metadata": {
    "tags": []
   },
   "outputs": [],
   "source": [
    "# Necessary for ResNet Dense Layer\n",
    "y_train_ros_eye = np.eye(num_classes)[y_train_ros.reshape(-1)]\n",
    "y_test_eye = np.eye(num_classes)[y_test.reshape(-1)]"
   ]
  },
  {
   "cell_type": "code",
   "execution_count": 16,
   "metadata": {
    "tags": []
   },
   "outputs": [],
   "source": [
    "from tensorflow.keras.applications.vgg16 import VGG16\n",
    "# from tensorflow.keras.applications.resnet50 import ResNet50\n",
    "base_model = VGG16(weights= None, include_top=False, input_shape=(dimensions[0], dimensions[1], 3))\n",
    "# base_model = ResNet50(weights= None, include_top=False, input_shape=(dimensions[0], dimensions[1], 3))\n",
    "\n",
    "# Required for VGG16 in thi cae\n",
    "tf.config.run_functions_eagerly(True)\n",
    "\n",
    "x = base_model.output\n",
    "x = GlobalAveragePooling2D()(x)\n",
    "x = Dropout(0.7)(x)\n",
    "predictions = Dense(num_classes, activation='softmax')(x)\n",
    "model = Model(inputs=base_model.input, outputs=predictions)\n",
    "\n",
    "from keras.optimizers import SGD, Adam\n",
    "# sgd = SGD(learning_rate=lrate, momentum=0.9, decay=decay, nesterov=False)\n",
    "adam = Adam(learning_rate=0.0001)\n",
    "model.compile(optimizer=adam, loss='categorical_crossentropy', metrics=['accuracy'])"
   ]
  },
  {
   "cell_type": "code",
   "execution_count": 17,
   "metadata": {
    "tags": []
   },
   "outputs": [
    {
     "name": "stderr",
     "output_type": "stream",
     "text": [
      "C:\\Users\\Brian\\AppData\\Local\\Programs\\Python\\Python311\\Lib\\site-packages\\tensorflow\\python\\data\\ops\\structured_function.py:254: UserWarning: Even though the `tf.config.experimental_run_functions_eagerly` option is set, this option does not apply to tf.data functions. To force eager execution of tf.data functions, please use `tf.data.experimental.enable_debug_mode()`.\n",
      "  warnings.warn(\n"
     ]
    },
    {
     "name": "stdout",
     "output_type": "stream",
     "text": [
      "Epoch 1/50\n",
      "130/130 [==============================] - 5773s 44s/step - loss: 1.6095 - accuracy: 0.2190\n",
      "Epoch 2/50\n",
      "130/130 [==============================] - 5705s 44s/step - loss: 1.5987 - accuracy: 0.2226\n",
      "Epoch 3/50\n",
      "130/130 [==============================] - 5719s 44s/step - loss: 1.5221 - accuracy: 0.2848\n",
      "Epoch 4/50\n",
      "130/130 [==============================] - 5759s 44s/step - loss: 1.2613 - accuracy: 0.3966\n",
      "Epoch 5/50\n",
      "130/130 [==============================] - 5802s 45s/step - loss: 0.9182 - accuracy: 0.5440\n",
      "Epoch 6/50\n",
      "130/130 [==============================] - 53333s 413s/step - loss: 0.7470 - accuracy: 0.6033\n",
      "Epoch 7/50\n",
      "130/130 [==============================] - 5878s 45s/step - loss: 0.6820 - accuracy: 0.6148\n",
      "Epoch 8/50\n",
      "130/130 [==============================] - 5822s 45s/step - loss: 0.6874 - accuracy: 0.6194\n",
      "Epoch 9/50\n",
      "130/130 [==============================] - 5818s 45s/step - loss: 0.6486 - accuracy: 0.6466\n",
      "Epoch 10/50\n",
      "130/130 [==============================] - 5840s 45s/step - loss: 0.6820 - accuracy: 0.6426\n",
      "Epoch 11/50\n",
      "130/130 [==============================] - 5839s 45s/step - loss: 0.6237 - accuracy: 0.6772\n",
      "Epoch 12/50\n",
      "130/130 [==============================] - 5850s 45s/step - loss: 0.5295 - accuracy: 0.7318\n",
      "Epoch 13/50\n",
      "130/130 [==============================] - 42207s 327s/step - loss: 0.4523 - accuracy: 0.7750\n",
      "Epoch 14/50\n",
      "130/130 [==============================] - 5688s 44s/step - loss: 0.4011 - accuracy: 0.8014\n",
      "Epoch 15/50\n",
      "130/130 [==============================] - 5695s 44s/step - loss: 0.3536 - accuracy: 0.8283\n",
      "Epoch 16/50\n",
      "130/130 [==============================] - 5650s 43s/step - loss: 0.3143 - accuracy: 0.8509\n",
      "Epoch 17/50\n",
      "130/130 [==============================] - 5658s 44s/step - loss: 0.2878 - accuracy: 0.8644\n",
      "Epoch 18/50\n",
      "130/130 [==============================] - 5642s 43s/step - loss: 0.2829 - accuracy: 0.8734\n",
      "Epoch 19/50\n",
      "130/130 [==============================] - 5646s 43s/step - loss: 0.2187 - accuracy: 0.9082\n",
      "Epoch 20/50\n",
      "130/130 [==============================] - 6135s 47s/step - loss: 0.1850 - accuracy: 0.9216\n",
      "Epoch 21/50\n",
      "130/130 [==============================] - 5754s 44s/step - loss: 0.1628 - accuracy: 0.9347\n",
      "Epoch 22/50\n",
      "130/130 [==============================] - 47516s 368s/step - loss: 0.1561 - accuracy: 0.9373\n",
      "Epoch 23/50\n",
      "130/130 [==============================] - 5923s 46s/step - loss: 0.1602 - accuracy: 0.9386\n",
      "Epoch 24/50\n",
      "130/130 [==============================] - 5908s 45s/step - loss: 0.1922 - accuracy: 0.9266\n",
      "Epoch 25/50\n",
      "130/130 [==============================] - 5910s 45s/step - loss: 0.1153 - accuracy: 0.9567\n",
      "Epoch 26/50\n",
      "130/130 [==============================] - 5891s 45s/step - loss: 0.0678 - accuracy: 0.9742\n",
      "Epoch 27/50\n",
      "130/130 [==============================] - 5875s 45s/step - loss: 0.1421 - accuracy: 0.9474\n",
      "Epoch 28/50\n",
      "130/130 [==============================] - 5899s 45s/step - loss: 0.0876 - accuracy: 0.9688\n",
      "Epoch 29/50\n",
      "130/130 [==============================] - 5956s 46s/step - loss: 0.0600 - accuracy: 0.9782\n",
      "Epoch 30/50\n",
      "130/130 [==============================] - 57013s 442s/step - loss: 0.0602 - accuracy: 0.9789\n",
      "Epoch 31/50\n",
      "130/130 [==============================] - 6037s 46s/step - loss: 0.0593 - accuracy: 0.9816\n",
      "Epoch 32/50\n",
      "130/130 [==============================] - 5975s 46s/step - loss: 0.0741 - accuracy: 0.9753\n",
      "Epoch 33/50\n",
      "130/130 [==============================] - 5985s 46s/step - loss: 0.0783 - accuracy: 0.9721\n",
      "Epoch 34/50\n",
      "130/130 [==============================] - 5993s 46s/step - loss: 0.0556 - accuracy: 0.9816\n",
      "Epoch 35/50\n",
      "130/130 [==============================] - 46842s 363s/step - loss: 0.0718 - accuracy: 0.9778\n",
      "Epoch 36/50\n",
      "130/130 [==============================] - 6096s 47s/step - loss: 0.0457 - accuracy: 0.9889\n",
      "Epoch 37/50\n",
      "130/130 [==============================] - 5989s 46s/step - loss: 0.0409 - accuracy: 0.9883\n",
      "Epoch 38/50\n",
      "130/130 [==============================] - 6045s 47s/step - loss: 0.0539 - accuracy: 0.9840\n",
      "Epoch 39/50\n",
      "130/130 [==============================] - 6384s 49s/step - loss: 0.0386 - accuracy: 0.9870\n",
      "Epoch 40/50\n",
      "130/130 [==============================] - 6052s 47s/step - loss: 0.0558 - accuracy: 0.9825\n",
      "Epoch 41/50\n",
      "130/130 [==============================] - 6008s 46s/step - loss: 0.0377 - accuracy: 0.9881\n",
      "Epoch 42/50\n",
      "130/130 [==============================] - 6017s 46s/step - loss: 0.0425 - accuracy: 0.9871\n",
      "Epoch 43/50\n",
      "130/130 [==============================] - 45407s 352s/step - loss: 0.0636 - accuracy: 0.9783\n",
      "Epoch 44/50\n",
      "130/130 [==============================] - 6053s 47s/step - loss: 0.0419 - accuracy: 0.9875\n",
      "Epoch 45/50\n",
      "130/130 [==============================] - 6138s 47s/step - loss: 0.0654 - accuracy: 0.9811\n",
      "Epoch 46/50\n",
      "130/130 [==============================] - 6134s 47s/step - loss: 0.0314 - accuracy: 0.9907\n",
      "Epoch 47/50\n",
      "130/130 [==============================] - 6354s 49s/step - loss: 0.0193 - accuracy: 0.9941\n",
      "Epoch 48/50\n",
      "130/130 [==============================] - 6108s 47s/step - loss: 0.0285 - accuracy: 0.9943\n",
      "Epoch 49/50\n",
      "130/130 [==============================] - 6174s 47s/step - loss: 0.0151 - accuracy: 0.9958\n",
      "Epoch 50/50\n",
      "130/130 [==============================] - 44617s 346s/step - loss: 0.0454 - accuracy: 0.9866\n"
     ]
    },
    {
     "data": {
      "text/plain": [
       "<keras.callbacks.History at 0x2afd98ca850>"
      ]
     },
     "execution_count": 17,
     "metadata": {},
     "output_type": "execute_result"
    }
   ],
   "source": [
    "model.fit(X_train_ros, y_train_ros_eye, epochs=50, batch_size=64)"
   ]
  },
  {
   "cell_type": "code",
   "execution_count": 19,
   "metadata": {
    "tags": []
   },
   "outputs": [
    {
     "name": "stdout",
     "output_type": "stream",
     "text": [
      "26/26 [==============================] - 205s 8s/step - loss: 5.0772 - accuracy: 0.6185\n",
      "Loss = 5.077214241027832\n",
      "Test Accuracy = 0.6184689998626709\n"
     ]
    }
   ],
   "source": [
    "preds = model.evaluate(X_test, y_test_eye)\n",
    "print (\"Loss = \" + str(preds[0]))\n",
    "print (\"Test Accuracy = \" + str(preds[1]))"
   ]
  },
  {
   "cell_type": "code",
   "execution_count": 20,
   "metadata": {
    "tags": []
   },
   "outputs": [
    {
     "name": "stderr",
     "output_type": "stream",
     "text": [
      "WARNING:absl:Found untraced functions such as _jit_compiled_convolution_op, _jit_compiled_convolution_op, _jit_compiled_convolution_op, _jit_compiled_convolution_op, _jit_compiled_convolution_op while saving (showing 5 of 13). These functions will not be directly callable after loading.\n"
     ]
    },
    {
     "name": "stdout",
     "output_type": "stream",
     "text": [
      "INFO:tensorflow:Assets written to: ./ModelSaves/VGG16_oversampling_v1\\assets\n"
     ]
    },
    {
     "name": "stderr",
     "output_type": "stream",
     "text": [
      "INFO:tensorflow:Assets written to: ./ModelSaves/VGG16_oversampling_v1\\assets\n"
     ]
    }
   ],
   "source": [
    "model.save('./ModelSaves/VGG16_oversampling_v1')"
   ]
  },
  {
   "cell_type": "code",
   "execution_count": 8,
   "metadata": {
    "tags": []
   },
   "outputs": [
    {
     "name": "stdout",
     "output_type": "stream",
     "text": [
      "26/26 [==============================] - 141s 5s/step - loss: 2.4212 - accuracy: 0.6185\n",
      "Loss = 2.4211628437042236\n",
      "Test Accuracy = 0.6184689998626709\n"
     ]
    }
   ],
   "source": [
    "preds = model.evaluate(X_test, y_test_eye)\n",
    "print (\"Loss = \" + str(preds[0]))\n",
    "print (\"Test Accuracy = \" + str(preds[1]))"
   ]
  },
  {
   "cell_type": "code",
   "execution_count": null,
   "metadata": {
    "tags": []
   },
   "outputs": [],
   "source": [
    "preds = model(X_test)"
   ]
  },
  {
   "cell_type": "code",
   "execution_count": null,
   "metadata": {
    "tags": []
   },
   "outputs": [],
   "source": [
    "preds[0:5]"
   ]
  },
  {
   "cell_type": "code",
   "execution_count": null,
   "metadata": {
    "tags": []
   },
   "outputs": [],
   "source": [
    "np.sum(np.argmax(preds, axis=1) == np.argmax(y_test_norm, axis=1)) / len(y_test)"
   ]
  },
  {
   "cell_type": "code",
   "execution_count": null,
   "metadata": {
    "tags": []
   },
   "outputs": [],
   "source": [
    "np.unique(np.argmax(preds, axis=1), return_counts=True)"
   ]
  },
  {
   "cell_type": "code",
   "execution_count": null,
   "metadata": {
    "tags": []
   },
   "outputs": [],
   "source": [
    "emotions = [\"Happiness\", \"Sadness\", \"Fear\", \"Disgust\", \"Anger\", \"Surprise\"]\n",
    "\n",
    "emotion_presence = set()\n",
    "\n",
    "rands = []\n",
    "\n",
    "shuffle_indices = shuffle(range(len(preds)))\n",
    "\n",
    "for i in shuffle_indices:\n",
    "    if emotions[classes[i]] not in emotion_presence and np.argmax(preds[i]) == classes[i]:\n",
    "        rands.append(i)\n",
    "        emotion_presence.add(emotions[classes[i]])\n",
    "\n",
    "print(len(rands))\n",
    "\n",
    "while len(rands) < 5:\n",
    "    pos = random.randint(0, len(test_indices) - 1)\n",
    "    if emotions[classes[test_indices[pos]]] not in emotion_presence:\n",
    "        rands.append(pos)\n",
    "        emotion_presence.add(emotions[classes[test_indices[pos]]])\n",
    "\n",
    "# actuals = [test_indices[pos] for pos in rands]\n",
    "\n",
    "for i in range(len(actuals)):\n",
    "    print('========================================================')\n",
    "    print(book_links[actuals[i]])\n",
    "    display(Image.fromarray((X_test[rands[i]] * 255).astype(np.uint8)))\n",
    "    print(emotions[np.argmax(preds[i])])\n",
    "    im = Image.open(directory + str(actuals[i]) + \".jpg\")\n",
    "    im.thumbnail(dimensions, Image.ANTIALIAS)\n",
    "    display(im)\n",
    "    print(emotions[classes[actuals[i]]])\n",
    "    print('========================================================')"
   ]
  },
  {
   "cell_type": "code",
   "execution_count": null,
   "metadata": {
    "tags": []
   },
   "outputs": [],
   "source": [
    "scores = {}\n",
    "for i in range(len(y_test)):\n",
    "    real_class = y_test[i]\n",
    "    pred_class = np.argmax(preds[i])\n",
    "    if real_class in scores:\n",
    "        scores[real_class] = [scores[real_class][0] + int(real_class == pred_class), scores[real_class][1] + 1]\n",
    "    else:\n",
    "        scores[real_class] = [int(real_class == pred_class), 1]"
   ]
  },
  {
   "cell_type": "code",
   "execution_count": null,
   "metadata": {
    "tags": []
   },
   "outputs": [],
   "source": [
    "for key in list(scores.keys()):\n",
    "    print(key, scores[key], scores[key][0] / scores[key][1])"
   ]
  },
  {
   "cell_type": "markdown",
   "metadata": {},
   "source": []
  }
 ],
 "metadata": {
  "kernelspec": {
   "display_name": "Python 3",
   "language": "python",
   "name": "python3"
  },
  "language_info": {
   "codemirror_mode": {
    "name": "ipython",
    "version": 3
   },
   "file_extension": ".py",
   "mimetype": "text/x-python",
   "name": "python",
   "nbconvert_exporter": "python",
   "pygments_lexer": "ipython3",
   "version": "3.8.3"
  }
 },
 "nbformat": 4,
 "nbformat_minor": 5
}
