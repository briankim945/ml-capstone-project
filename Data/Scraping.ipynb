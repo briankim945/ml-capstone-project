{
 "cells": [
  {
   "cell_type": "code",
   "execution_count": 21,
   "metadata": {},
   "outputs": [],
   "source": [
    "from urllib.request import urlopen\n",
    "from bs4 import BeautifulSoup\n",
    "import re\n",
    "from selenium.webdriver.support.ui import WebDriverWait as wait\n",
    "from selenium import webdriver\n",
    "from selenium.webdriver.firefox.service import Service as FirefoxService\n",
    "from webdriver_manager.firefox import GeckoDriverManager\n",
    "import json\n",
    "import sys\n",
    "from PIL import Image\n",
    "import requests\n",
    "from io import BytesIO\n",
    "import os\n",
    "import random\n",
    "import numpy as np"
   ]
  },
  {
   "cell_type": "code",
   "execution_count": 2,
   "metadata": {},
   "outputs": [],
   "source": [
    "goodreads_parent = \"https://www.goodreads.com\""
   ]
  },
  {
   "cell_type": "markdown",
   "metadata": {},
   "source": [
    "# Retrieving relevant values"
   ]
  },
  {
   "cell_type": "code",
   "execution_count": 10,
   "metadata": {},
   "outputs": [
    {
     "data": {
      "text/plain": [
       "10000"
      ]
     },
     "execution_count": 10,
     "metadata": {},
     "output_type": "execute_result"
    }
   ],
   "source": [
    "with open('data_2.json', 'r') as f:\n",
    "    data = json.load(f)\n",
    "\n",
    "book_links = data['book_links']\n",
    "shelf_links = data['shelves']\n",
    "shelf_values = data['shelf_values']\n",
    "img_urls = data['img_urls']\n",
    "len(shelf_values)"
   ]
  },
  {
   "cell_type": "markdown",
   "metadata": {},
   "source": [
    "# Prettified Scraping"
   ]
  },
  {
   "cell_type": "markdown",
   "metadata": {},
   "source": [
    "### Run the following code to scrape the relevant data from the GoodReads website"
   ]
  },
  {
   "cell_type": "markdown",
   "metadata": {},
   "source": [
    "#### Book Links"
   ]
  },
  {
   "cell_type": "code",
   "execution_count": null,
   "metadata": {},
   "outputs": [],
   "source": [
    "book_links = []\n",
    "\n",
    "book_links = []\n",
    "for i in range(100):\n",
    "    url = f\"https://www.goodreads.com/list/show/1.Best_Books_Ever?page={i + 1}\"\n",
    "    page = urlopen(url)\n",
    "    html = page.read().decode(\"utf-8\")\n",
    "    soup = BeautifulSoup(html, \"html.parser\")\n",
    "    for book_item in soup.find_all(\"table\")[0].find_all(\"tr\"):\n",
    "        href = None\n",
    "        for a_item in book_item.find_all(\"a\"):\n",
    "            if a_item.get(\"href\") is not None and a_item.get(\"title\") is not None:\n",
    "                href = a_item[\"href\"]\n",
    "                break\n",
    "        book_links.append(href)\n",
    "\n",
    "print(len(book_links))"
   ]
  },
  {
   "cell_type": "markdown",
   "metadata": {},
   "source": [
    "#### Shelf Links"
   ]
  },
  {
   "cell_type": "code",
   "execution_count": null,
   "metadata": {},
   "outputs": [],
   "source": [
    "shelf_links = []\n",
    "\n",
    "count = 0\n",
    "for book_link in book_links:\n",
    "    count += 1\n",
    "    try:\n",
    "        if count > len(shelf_links):\n",
    "            sys.stdout.write(\"\\r\" + str(len(shelf_links)) + \"/\" + str(len(book_links)))\n",
    "            sys.stdout.flush()\n",
    "            url = goodreads_parent + book_link\n",
    "            page = urlopen(url)\n",
    "            html = page.read().decode(\"utf-8\")\n",
    "            soup = BeautifulSoup(html, \"html.parser\")\n",
    "            r = re.search(\n",
    "                r'\"shelvesUrl\":\"(.*)\",\"pub',\n",
    "                soup.findAll(\"script\", {\"id\": \"__NEXT_DATA__\"})[0].contents[0]\n",
    "            )\n",
    "            shelf_links.append(r.group(1))s\n",
    "    except:\n",
    "        shelf_links.append(\"Error\")\n",
    "\n",
    "        \n",
    "print(len(shelf_links))"
   ]
  },
  {
   "cell_type": "markdown",
   "metadata": {},
   "source": [
    "#### Shelf Values"
   ]
  },
  {
   "cell_type": "code",
   "execution_count": null,
   "metadata": {},
   "outputs": [],
   "source": [
    "shelf_values = []\n",
    "\n",
    "errors = 0\n",
    "updates = 0\n",
    "for i in range(len(shelf_links)):\n",
    "    sys.stdout.write(\"\\r\" + str(i + 1) + \"/\" + str(len(shelf_links)) + \" errors: \" + str(errors))\n",
    "    sys.stdout.flush()\n",
    "    try:\n",
    "        if shelf_values[i] == \"Error\" or (isinstance(shelf_values[i], str) \\\n",
    "                                          and shelf_values[i].startswith(\"Error\")) \\\n",
    "        or (shelf_values[i].count(\"to-read\") > 1 and shelf_values[i].count(\"to-read\") == len(shelf_values[i])):\n",
    "            tmp = []\n",
    "            for j in range(10):\n",
    "                page = urlopen(shelf_links[i] + f\"?page={j}\")\n",
    "                html = page.read().decode(\"utf-8\")\n",
    "                soup = BeautifulSoup(html, \"html.parser\")\n",
    "                divs = soup.find_all(\"div\", {\"class\": \"shelfStat\"})\n",
    "                for div in divs:\n",
    "                    tmp.append(div.findChildren(\"a\")[0].text)\n",
    "                if len(divs) < 100:\n",
    "                    break\n",
    "            shelf_values[i] = tmp\n",
    "            tmp_shelf_data = {\n",
    "                \"shelves\": shelf_links,\n",
    "                \"values\": shelf_values\n",
    "            }\n",
    "            updates += 1\n",
    "    except Exception as e:\n",
    "        shelf_values[i] = \"Error \" + str(e)\n",
    "        errors += 1\n",
    "    if i % 100 == 0 and updates > 0:\n",
    "        with open('tmp_shelf_data.json', 'w', encoding='utf-8') as f:\n",
    "            json.dump(tmp_shelf_data, f, ensure_ascii=False, indent=4)"
   ]
  },
  {
   "cell_type": "markdown",
   "metadata": {},
   "source": [
    "#### Book Covers"
   ]
  },
  {
   "cell_type": "code",
   "execution_count": 19,
   "metadata": {},
   "outputs": [
    {
     "name": "stdout",
     "output_type": "stream",
     "text": [
      "10000/10000 errors: 0"
     ]
    }
   ],
   "source": [
    "# GETTING URLS\n",
    "if not 'img_urls' in locals():\n",
    "    img_urls = []\n",
    "\n",
    "errors = 0\n",
    "\n",
    "for i in range(len(book_links)):\n",
    "    sys.stdout.write(\"\\r\" + str(i + 1) + \"/\" + str(len(book_links)) + \" errors: \" + str(errors))\n",
    "    sys.stdout.flush()\n",
    "    request_count = 0\n",
    "    completed = False\n",
    "    if not i < len(img_urls) or img_urls[i] == \"Error\":\n",
    "        while request_count < 10 and not completed:\n",
    "            try:\n",
    "                page = urlopen(goodreads_parent + book_links[i])\n",
    "                html = page.read().decode(\"utf-8\")\n",
    "                soup = BeautifulSoup(html, \"html.parser\")\n",
    "\n",
    "                url = soup.find_all(\"div\", {\"class\", \"BookCover__image\"})[0].findChildren(\"img\")[0][\"src\"]\n",
    "\n",
    "                if i < len(img_urls):\n",
    "                    img_urls[i] = url\n",
    "                else:\n",
    "                    img_urls.append(url)\n",
    "                \n",
    "                completed = True\n",
    "            except:\n",
    "                request_count += 1\n",
    "        \n",
    "        if request_count >= 10:\n",
    "            if i < len(img_urls):\n",
    "                img_urls[i] = \"Error\"\n",
    "            else:\n",
    "                img_urls.append(\"Error\")\n",
    "            errors += 1"
   ]
  },
  {
   "cell_type": "code",
   "execution_count": 36,
   "metadata": {},
   "outputs": [
    {
     "name": "stdout",
     "output_type": "stream",
     "text": [
      "10000/10000 errors: 4"
     ]
    }
   ],
   "source": [
    "# Downloading files\n",
    "directory = \"./data/images/\"\n",
    "error_vals = []\n",
    "errors = 0\n",
    "\n",
    "for i in range(len(img_urls)):\n",
    "    file_name = str(i) + \".jpg\"\n",
    "    sys.stdout.write(\"\\r\" + str(i + 1) + \"/\" + str(len(img_urls)) + \" errors: \" + str(errors))\n",
    "    sys.stdout.flush()\n",
    "    if not os.path.isfile(directory + file_name) or os.stat(directory + file_name).st_size == 0:      \n",
    "        try:\n",
    "            response = requests.get(img_urls[i])\n",
    "            img = Image.open(BytesIO(response.content)).convert('RGB')\n",
    "            img.save(directory + file_name)\n",
    "        except Exception as e:\n",
    "            error_vals.append(\"Error \" + str(e) + \" \" + str(i) + \" \" + img_urls[i] + \" \" + goodreads_parent + book_links[i])\n",
    "            errors += 1"
   ]
  },
  {
   "cell_type": "code",
   "execution_count": 37,
   "metadata": {},
   "outputs": [
    {
     "data": {
      "text/plain": [
       "['Error cannot identify image file <_io.BytesIO object at 0x7fd782593090> 1120 https://images-na.ssl-images-amazon.com/images/S/compressed.photo.goodreads.com/books/1166542346i/13103.jpg https://www.goodreads.com/book/show/13103.The_Celestine_Prophecy',\n",
       " 'Error cannot identify image file <_io.BytesIO object at 0x7fd7825933b0> 1388 https://images-na.ssl-images-amazon.com/images/S/compressed.photo.goodreads.com/books/1327880523i/13312527.jpg https://www.goodreads.com/book/show/13312527-the-opportunist',\n",
       " 'Error cannot identify image file <_io.BytesIO object at 0x7fd78809ab30> 3099 https://images-na.ssl-images-amazon.com/images/S/compressed.photo.goodreads.com/books/1168447985i/33514.jpg https://www.goodreads.com/book/show/33514.The_Elements_of_Style',\n",
       " 'Error cannot identify image file <_io.BytesIO object at 0x7fd78808dea0> 9073 https://images-na.ssl-images-amazon.com/images/S/compressed.photo.goodreads.com/books/1256068757i/2253484.jpg https://www.goodreads.com/book/show/2253484.Shadow_Country']"
      ]
     },
     "execution_count": 37,
     "metadata": {},
     "output_type": "execute_result"
    }
   ],
   "source": [
    "error_vals"
   ]
  },
  {
   "cell_type": "code",
   "execution_count": 38,
   "metadata": {},
   "outputs": [
    {
     "name": "stdout",
     "output_type": "stream",
     "text": [
      "10000/10000 errors: 0"
     ]
    }
   ],
   "source": [
    "shapes = set()\n",
    "error_vals = []\n",
    "errors = 0\n",
    "\n",
    "for i in range(len(img_urls)):\n",
    "    file_name = str(i) + \".jpg\"\n",
    "    sys.stdout.write(\"\\r\" + str(i + 1) + \"/\" + str(len(img_urls)) + \" errors: \" + str(errors))\n",
    "    sys.stdout.flush()\n",
    "    if os.path.isfile(directory + file_name):  \n",
    "        try:\n",
    "            img = Image.open(directory + file_name)\n",
    "            img.load()\n",
    "            data = np.asarray( img, dtype=\"int32\" )\n",
    "            shapes.add(data.shape)\n",
    "        except:\n",
    "            errors += 1\n",
    "            error_vals.append(i)"
   ]
  },
  {
   "cell_type": "markdown",
   "metadata": {},
   "source": [
    "#### Final Save"
   ]
  },
  {
   "cell_type": "code",
   "execution_count": 21,
   "metadata": {},
   "outputs": [],
   "source": [
    "data = {}\n",
    "\n",
    "data[\"shelf_values\"] = shelf_values\n",
    "data[\"book_links\"] = book_links\n",
    "data[\"img_urls\"] = img_urls\n",
    "\n",
    "with open('data_2.json', 'w', encoding='utf-8') as f:\n",
    "    json.dump(data, f, ensure_ascii=False, indent=4)"
   ]
  },
  {
   "cell_type": "markdown",
   "metadata": {},
   "source": [
    "# Initial Scraping"
   ]
  },
  {
   "cell_type": "markdown",
   "metadata": {},
   "source": [
    "### Initial Loading"
   ]
  },
  {
   "cell_type": "code",
   "execution_count": 3,
   "metadata": {},
   "outputs": [],
   "source": [
    "url = \"https://www.goodreads.com/list/show/1.Best_Books_Ever\"\n",
    "page = urlopen(url)\n",
    "html = page.read().decode(\"utf-8\")\n",
    "soup = BeautifulSoup(html, \"html.parser\")"
   ]
  },
  {
   "cell_type": "code",
   "execution_count": 4,
   "metadata": {},
   "outputs": [
    {
     "data": {
      "text/plain": [
       "100"
      ]
     },
     "execution_count": 4,
     "metadata": {},
     "output_type": "execute_result"
    }
   ],
   "source": [
    "len(soup.find_all(\"table\")[0].find_all(\"tr\"))"
   ]
  },
  {
   "cell_type": "code",
   "execution_count": 5,
   "metadata": {},
   "outputs": [
    {
     "data": {
      "text/plain": [
       "'/book/show/2767052-the-hunger-games'"
      ]
     },
     "execution_count": 5,
     "metadata": {},
     "output_type": "execute_result"
    }
   ],
   "source": [
    "soup.find_all(\"table\")[0].find_all(\"tr\")[0].find_all(\"a\")[0]['href']"
   ]
  },
  {
   "cell_type": "code",
   "execution_count": 73,
   "metadata": {},
   "outputs": [
    {
     "name": "stdout",
     "output_type": "stream",
     "text": [
      "['/book/show/2767052-the-hunger-games', '/book/show/2.Harry_Potter_and_the_Order_of_the_Phoenix', '/book/show/1885.Pride_and_Prejudice', '/book/show/2657.To_Kill_a_Mockingbird', '/book/show/19063.The_Book_Thief', '/book/show/41865.Twilight', '/book/show/170448.Animal_Farm', '/book/show/11127.The_Chronicles_of_Narnia', '/book/show/30.J_R_R_Tolkien_4_Book_Boxed_Set', '/book/show/11870085-the-fault-in-our-stars', '/book/show/18405.Gone_with_the_Wind', '/book/show/370493.The_Giving_Tree', '/book/show/6185.Wuthering_Heights', '/book/show/5297.The_Picture_of_Dorian_Gray', '/book/show/72193.Harry_Potter_and_the_Philosopher_s_Stone', '/book/show/10210.Jane_Eyre', '/book/show/22628.The_Perks_of_Being_a_Wallflower', '/book/show/968.The_Da_Vinci_Code', '/book/show/4671.The_Great_Gatsby', '/book/show/929.Memoirs_of_a_Geisha']\n",
      "10000\n"
     ]
    }
   ],
   "source": [
    "book_links = []\n",
    "for i in range(100):\n",
    "    url = f\"https://www.goodreads.com/list/show/1.Best_Books_Ever?page={i + 1}\"\n",
    "    page = urlopen(url)\n",
    "    html = page.read().decode(\"utf-8\")\n",
    "    soup = BeautifulSoup(html, \"html.parser\")\n",
    "    for book_item in soup.find_all(\"table\")[0].find_all(\"tr\"):\n",
    "        href = None\n",
    "        for a_item in book_item.find_all(\"a\"):\n",
    "#             print(\"+++\", a_item, a_item.get(\"href\"))\n",
    "            if a_item.get(\"href\") is not None and a_item.get(\"title\") is not None:\n",
    "                href = a_item[\"href\"]\n",
    "                break\n",
    "        book_links.append(href)\n",
    "        if (len(book_links) == 20):\n",
    "            print(book_links)\n",
    "print(len(book_links))"
   ]
  },
  {
   "cell_type": "code",
   "execution_count": 13,
   "metadata": {},
   "outputs": [],
   "source": [
    "url = \"https://www.goodreads.com/book/show/2767052-the-hunger-games\"\n",
    "page = urlopen(url)\n",
    "html = page.read().decode(\"utf-8\")\n",
    "soup = BeautifulSoup(html, \"html.parser\")"
   ]
  },
  {
   "cell_type": "code",
   "execution_count": 25,
   "metadata": {},
   "outputs": [],
   "source": [
    "# print(soup.prettify())"
   ]
  },
  {
   "cell_type": "code",
   "execution_count": 24,
   "metadata": {},
   "outputs": [
    {
     "data": {
      "text/plain": [
       "1"
      ]
     },
     "execution_count": 24,
     "metadata": {},
     "output_type": "execute_result"
    }
   ],
   "source": [
    "len(soup.findAll(\"script\", {\"id\": \"__NEXT_DATA__\"}))"
   ]
  },
  {
   "cell_type": "code",
   "execution_count": 55,
   "metadata": {},
   "outputs": [
    {
     "data": {
      "text/plain": [
       "1"
      ]
     },
     "execution_count": 55,
     "metadata": {},
     "output_type": "execute_result"
    }
   ],
   "source": [
    "len(soup.findAll(\"script\", {\"id\": \"__NEXT_DATA__\"})[0].contents)\n",
    "# soup.findAll(\"script\", {\"id\": \"__NEXT_DATA__\"})[0].contents[0]"
   ]
  },
  {
   "cell_type": "code",
   "execution_count": 57,
   "metadata": {},
   "outputs": [
    {
     "data": {
      "text/plain": [
       "'https://www.goodreads.com/work/shelves/2792775-the-hunger-games'"
      ]
     },
     "execution_count": 57,
     "metadata": {},
     "output_type": "execute_result"
    }
   ],
   "source": [
    "json_data = json.loads(soup.findAll(\"script\", {\"id\": \"__NEXT_DATA__\"})[0].contents[0])\n",
    "r = re.search(r'\"shelvesUrl\":\"(.*)\",\"pub', soup.findAll(\"script\", {\"id\": \"__NEXT_DATA__\"})[0].contents[0])\n",
    "r.group(1)\n",
    "# json_data['props']['pageProps']['apolloState']['Work:kca://work/amzn1.gr.work.v1.qDM8aVuWTQKRymQBUS02og']"
   ]
  },
  {
   "cell_type": "code",
   "execution_count": 14,
   "metadata": {},
   "outputs": [
    {
     "name": "stdout",
     "output_type": "stream",
     "text": [
      "[]\n"
     ]
    }
   ],
   "source": [
    "print(soup.findAll(text=\"/shelves/2792775-the-hunger-games\"))"
   ]
  },
  {
   "cell_type": "code",
   "execution_count": 28,
   "metadata": {},
   "outputs": [
    {
     "name": "stdout",
     "output_type": "stream",
     "text": [
      "[]\n"
     ]
    }
   ],
   "source": [
    "print(soup.findAll(\"div\", {\"class\": \"Button__labelItem\"}))"
   ]
  },
  {
   "cell_type": "code",
   "execution_count": 60,
   "metadata": {},
   "outputs": [],
   "source": [
    "# driver = webdriver.Firefox(service=FirefoxService(GeckoDriverManager().install()))\n",
    "# driver.get(url)\n",
    "# text_field = driver.find_element(By.LINK_TEXT, \"...more\")\n",
    "# text_field.click()\n",
    "# # text_field = driver.find_element(By.LINK_TEXT, \"...show all\")\n",
    "# text = wait(driver, 10).until(lambda driver: not text_field.text == '..more' and text_field.text)\n",
    "# text"
   ]
  },
  {
   "cell_type": "code",
   "execution_count": 75,
   "metadata": {},
   "outputs": [],
   "source": [
    "# book_links"
   ]
  },
  {
   "cell_type": "code",
   "execution_count": null,
   "metadata": {},
   "outputs": [],
   "source": [
    "shelf_links = []"
   ]
  },
  {
   "cell_type": "code",
   "execution_count": 85,
   "metadata": {},
   "outputs": [
    {
     "name": "stdout",
     "output_type": "stream",
     "text": [
      "9999/1000010000\n"
     ]
    }
   ],
   "source": [
    "count = 0\n",
    "for book_link in book_links:\n",
    "    count += 1\n",
    "    try:\n",
    "        if count > len(shelf_links):\n",
    "            sys.stdout.write(\"\\r\" + str(len(shelf_links)) + \"/\" + str(len(book_links)))\n",
    "            sys.stdout.flush()\n",
    "            url = goodreads_parent + book_link\n",
    "            page = urlopen(url)\n",
    "            html = page.read().decode(\"utf-8\")\n",
    "            soup = BeautifulSoup(html, \"html.parser\")\n",
    "            r = re.search(\n",
    "                r'\"shelvesUrl\":\"(.*)\",\"pub',\n",
    "                soup.findAll(\"script\", {\"id\": \"__NEXT_DATA__\"})[0].contents[0]\n",
    "            )\n",
    "            shelf_links.append(r.group(1))s\n",
    "    except:\n",
    "        shelf_links.append(\"Error\")\n",
    "print(len(shelf_links))"
   ]
  },
  {
   "cell_type": "code",
   "execution_count": 86,
   "metadata": {},
   "outputs": [
    {
     "name": "stdout",
     "output_type": "stream",
     "text": [
      "10000\n"
     ]
    }
   ],
   "source": [
    "print(len(shelf_links))"
   ]
  },
  {
   "cell_type": "code",
   "execution_count": 88,
   "metadata": {},
   "outputs": [
    {
     "data": {
      "text/plain": [
       "45"
      ]
     },
     "execution_count": 88,
     "metadata": {},
     "output_type": "execute_result"
    }
   ],
   "source": [
    "sum([1 for shelf in shelf_links if shelf == \"Error\"])"
   ]
  },
  {
   "cell_type": "code",
   "execution_count": 87,
   "metadata": {},
   "outputs": [],
   "source": [
    "new_data = {\n",
    "    \"books\" : book_links,\n",
    "    \"shelves\" : shelf_links\n",
    "}\n",
    "\n",
    "with open('data.json', 'w', encoding='utf-8') as f:\n",
    "    json.dump(new_data, f, ensure_ascii=False, indent=4)"
   ]
  },
  {
   "cell_type": "markdown",
   "metadata": {},
   "source": [
    "### Plugging Holes in the Data"
   ]
  },
  {
   "cell_type": "code",
   "execution_count": 3,
   "metadata": {},
   "outputs": [
    {
     "data": {
      "text/plain": [
       "(10000, 10000)"
      ]
     },
     "execution_count": 3,
     "metadata": {},
     "output_type": "execute_result"
    }
   ],
   "source": [
    "with open('data.json', 'r') as f:\n",
    "    data = json.load(f)\n",
    "    \n",
    "book_links = data[\"books\"]\n",
    "shelf_links = data[\"shelves\"]\n",
    "\n",
    "len(book_links), len(shelf_links)"
   ]
  },
  {
   "cell_type": "code",
   "execution_count": 13,
   "metadata": {},
   "outputs": [
    {
     "name": "stdout",
     "output_type": "stream",
     "text": [
      "1 /book/show/1844941.Kuyucakl_Yusuf\n"
     ]
    }
   ],
   "source": [
    "count = 0\n",
    "for i in range(len(book_links)):\n",
    "    if shelf_links[i] == \"Error\":\n",
    "        count += 1\n",
    "        print(count, book_links[i])\n",
    "        try:\n",
    "            url = goodreads_parent + book_links[i]\n",
    "            page = urlopen(url)\n",
    "            html = page.read().decode(\"utf-8\")\n",
    "            soup = BeautifulSoup(html, \"html.parser\")\n",
    "            r = re.search(\n",
    "                r'\"shelvesUrl\":\"(.*)\",\"pub',\n",
    "                soup.findAll(\"script\", {\"id\": \"__NEXT_DATA__\"})[0].contents[0]\n",
    "            )\n",
    "            shelf_links[i] = r.group(1)\n",
    "        except Exception as e:\n",
    "            print(\"   FAILURE for\", book_links[i])\n",
    "            print(\"   \", e)"
   ]
  },
  {
   "cell_type": "code",
   "execution_count": 5,
   "metadata": {},
   "outputs": [
    {
     "data": {
      "text/plain": [
       "1"
      ]
     },
     "execution_count": 5,
     "metadata": {},
     "output_type": "execute_result"
    }
   ],
   "source": [
    "sum([1 for shelf in shelf_links if shelf == \"Error\"])"
   ]
  },
  {
   "cell_type": "code",
   "execution_count": 6,
   "metadata": {},
   "outputs": [
    {
     "data": {
      "text/plain": [
       "(10000, 10000)"
      ]
     },
     "execution_count": 6,
     "metadata": {},
     "output_type": "execute_result"
    }
   ],
   "source": [
    "len(book_links), len(shelf_links)"
   ]
  },
  {
   "cell_type": "code",
   "execution_count": 14,
   "metadata": {},
   "outputs": [],
   "source": [
    "new_data = {\n",
    "    \"books\" : book_links,\n",
    "    \"shelves\" : shelf_links\n",
    "}\n",
    "\n",
    "with open('data.json', 'w', encoding='utf-8') as f:\n",
    "    json.dump(new_data, f, ensure_ascii=False, indent=4)"
   ]
  },
  {
   "cell_type": "markdown",
   "metadata": {},
   "source": [
    "### Getting Shelves"
   ]
  },
  {
   "cell_type": "code",
   "execution_count": 22,
   "metadata": {},
   "outputs": [
    {
     "name": "stdout",
     "output_type": "stream",
     "text": [
      "100\n"
     ]
    },
    {
     "data": {
      "text/plain": [
       "'to-read'"
      ]
     },
     "execution_count": 22,
     "metadata": {},
     "output_type": "execute_result"
    }
   ],
   "source": [
    "shelf_link = \"https://www.goodreads.com/work/shelves/2792775-the-hunger-games\"\n",
    "page = urlopen(shelf_link)\n",
    "html = page.read().decode(\"utf-8\")\n",
    "soup = BeautifulSoup(html, \"html.parser\")\n",
    "print(len(soup.find_all(\"div\", {\"class\": \"shelfStat\"})))\n",
    "soup.find_all(\"div\", {\"class\": \"shelfStat\"})[0].findChildren(\"a\")[0].text"
   ]
  },
  {
   "cell_type": "code",
   "execution_count": 24,
   "metadata": {},
   "outputs": [],
   "source": [
    "shelf_values = []"
   ]
  },
  {
   "cell_type": "code",
   "execution_count": 25,
   "metadata": {},
   "outputs": [
    {
     "name": "stdout",
     "output_type": "stream",
     "text": [
      "9999/10000 errors: 7646"
     ]
    }
   ],
   "source": [
    "errors = 0\n",
    "count = 0\n",
    "\n",
    "for shelf_link in shelf_links:\n",
    "    count += 1\n",
    "    sys.stdout.write(\"\\r\" + str(len(shelf_values)) + \"/\" + str(len(shelf_links)) + \" errors: \" + str(errors))\n",
    "    sys.stdout.flush()\n",
    "    try:\n",
    "        if count > len(shelf_values):\n",
    "            tmp = []\n",
    "            for i in range(10):\n",
    "                page = urlopen(shelf_link + f\"?page={i}\")\n",
    "                html = page.read().decode(\"utf-8\")\n",
    "                soup = BeautifulSoup(html, \"html.parser\")\n",
    "                for div in soup.find_all(\"div\", {\"class\": \"shelfStat\"}):\n",
    "                    tmp.append(soup.find_all(\"div\", {\"class\": \"shelfStat\"})[0].findChildren(\"a\")[0].text)\n",
    "            shelf_values.append(tmp)\n",
    "    except:\n",
    "        shelf_values.append(\"Error\")\n",
    "        errors += 1"
   ]
  },
  {
   "cell_type": "code",
   "execution_count": 32,
   "metadata": {},
   "outputs": [],
   "source": [
    "# TEMPORARY\n",
    "tmp_shelf_data = {\n",
    "    \"shelves\": shelf_links,\n",
    "    \"values\": shelf_values\n",
    "}\n",
    "\n",
    "with open('tmp_shelf_data.json', 'w', encoding='utf-8') as f:\n",
    "    json.dump(tmp_shelf_data, f, ensure_ascii=False, indent=4)"
   ]
  },
  {
   "cell_type": "code",
   "execution_count": 37,
   "metadata": {},
   "outputs": [],
   "source": [
    "count = 0\n",
    "errors = 0"
   ]
  },
  {
   "cell_type": "code",
   "execution_count": 39,
   "metadata": {},
   "outputs": [],
   "source": [
    "completed = count - 1"
   ]
  },
  {
   "cell_type": "code",
   "execution_count": 58,
   "metadata": {},
   "outputs": [
    {
     "data": {
      "text/plain": [
       "10000"
      ]
     },
     "execution_count": 58,
     "metadata": {},
     "output_type": "execute_result"
    }
   ],
   "source": [
    "len"
   ]
  },
  {
   "cell_type": "code",
   "execution_count": 59,
   "metadata": {},
   "outputs": [],
   "source": [
    "completed = 0"
   ]
  },
  {
   "cell_type": "code",
   "execution_count": 102,
   "metadata": {},
   "outputs": [],
   "source": [
    "tmp = []\n",
    "for j in range(10):\n",
    "    page = urlopen(shelf_links[0] + f\"?page={j}\")\n",
    "    html = page.read().decode(\"utf-8\")\n",
    "    soup = BeautifulSoup(html, \"html.parser\")\n",
    "    for div in soup.find_all(\"div\", {\"class\": \"shelfStat\"}):\n",
    "        tmp.append(div.findChildren(\"a\")[0].text)\n",
    "# tmp"
   ]
  },
  {
   "cell_type": "code",
   "execution_count": 195,
   "metadata": {},
   "outputs": [
    {
     "data": {
      "text/plain": [
       "0"
      ]
     },
     "execution_count": 195,
     "metadata": {},
     "output_type": "execute_result"
    }
   ],
   "source": [
    "tmp_link = shelf_links[book_links.index(\"/book/show/33560584-tiger-and-the-robot\")]\n",
    "page = urlopen(tmp_link + f\"?page={2}\")\n",
    "html = page.read().decode(\"utf-8\")\n",
    "soup = BeautifulSoup(html, \"html.parser\")\n",
    "divs = soup.find_all(\"div\", {\"class\": \"shelfStat\"})\n",
    "len(divs)"
   ]
  },
  {
   "cell_type": "code",
   "execution_count": 7,
   "metadata": {},
   "outputs": [
    {
     "name": "stdout",
     "output_type": "stream",
     "text": [
      "10000/10000 errors: 0"
     ]
    }
   ],
   "source": [
    "# count = 0\n",
    "errors = 0\n",
    "updates = 0\n",
    "for i in range(len(shelf_values)):\n",
    "#     count += 1\n",
    "    sys.stdout.write(\"\\r\" + str(i + 1) + \"/\" + str(len(shelf_links)) + \" errors: \" + str(errors))\n",
    "    sys.stdout.flush()\n",
    "    try:\n",
    "        if shelf_values[i] == \"Error\" or (isinstance(shelf_values[i], str) \\\n",
    "                                          and shelf_values[i].startswith(\"Error\")) \\\n",
    "        or (shelf_values[i].count(\"to-read\") > 1 and shelf_values[i].count(\"to-read\") == len(shelf_values[i])):\n",
    "    #         print(count, book_links[i])\n",
    "            tmp = []\n",
    "            for j in range(10):\n",
    "                page = urlopen(shelf_links[i] + f\"?page={j}\")\n",
    "                html = page.read().decode(\"utf-8\")\n",
    "                soup = BeautifulSoup(html, \"html.parser\")\n",
    "                divs = soup.find_all(\"div\", {\"class\": \"shelfStat\"})\n",
    "                for div in divs:\n",
    "                    tmp.append(div.findChildren(\"a\")[0].text)\n",
    "                if len(divs) < 100:\n",
    "                    break\n",
    "            shelf_values[i] = tmp\n",
    "            tmp_shelf_data = {\n",
    "                \"shelves\": shelf_links,\n",
    "                \"values\": shelf_values\n",
    "            }\n",
    "            updates += 1\n",
    "    except Exception as e:\n",
    "        shelf_values[i] = \"Error \" + str(e)\n",
    "        errors += 1\n",
    "#         print(\"   FAILURE for\", shelf_links[i])\n",
    "#         print(\"   \", e)\n",
    "    if i % 100 == 0 and updates > 0:\n",
    "        with open('tmp_shelf_data.json', 'w', encoding='utf-8') as f:\n",
    "            json.dump(tmp_shelf_data, f, ensure_ascii=False, indent=4)"
   ]
  },
  {
   "cell_type": "code",
   "execution_count": 83,
   "metadata": {},
   "outputs": [
    {
     "data": {
      "text/plain": [
       "10000"
      ]
     },
     "execution_count": 83,
     "metadata": {},
     "output_type": "execute_result"
    }
   ],
   "source": [
    "len(shelf_values)"
   ]
  },
  {
   "cell_type": "code",
   "execution_count": 100,
   "metadata": {},
   "outputs": [],
   "source": [
    "# shelf_values[-1]"
   ]
  },
  {
   "cell_type": "code",
   "execution_count": 45,
   "metadata": {},
   "outputs": [],
   "source": [
    "data[\"shelf_values\"] = shelf_values\n",
    "with open('data.json', 'w', encoding='utf-8') as f:\n",
    "    json.dump(data, f, ensure_ascii=False, indent=4)"
   ]
  },
  {
   "cell_type": "markdown",
   "metadata": {},
   "source": [
    "### Images"
   ]
  },
  {
   "cell_type": "code",
   "execution_count": 112,
   "metadata": {},
   "outputs": [
    {
     "data": {
      "text/plain": [
       "'https://images-na.ssl-images-amazon.com/images/S/compressed.photo.goodreads.com/books/1586722975i/2767052.jpg'"
      ]
     },
     "execution_count": 112,
     "metadata": {},
     "output_type": "execute_result"
    }
   ],
   "source": [
    "page = urlopen(goodreads_parent + book_links[0])\n",
    "html = page.read().decode(\"utf-8\")\n",
    "soup = BeautifulSoup(html, \"html.parser\")\n",
    "\n",
    "soup.find_all(\"div\", {\"class\", \"BookCover__image\"})[0].findChildren(\"img\")[0][\"src\"]"
   ]
  },
  {
   "cell_type": "code",
   "execution_count": 113,
   "metadata": {},
   "outputs": [],
   "source": [
    "img_urls = []"
   ]
  },
  {
   "cell_type": "code",
   "execution_count": 120,
   "metadata": {},
   "outputs": [
    {
     "name": "stdout",
     "output_type": "stream",
     "text": [
      "10000/10000 errors: 0"
     ]
    }
   ],
   "source": [
    "# GETTING URLS\n",
    "errors = 0\n",
    "\n",
    "for i in range(len(book_links)):\n",
    "    sys.stdout.write(\"\\r\" + str(i + 1) + \"/\" + str(len(book_links)) + \" errors: \" + str(errors))\n",
    "    sys.stdout.flush()\n",
    "    try:\n",
    "        if not i < len(img_urls) or img_urls[i] == \"Error\":\n",
    "            page = urlopen(goodreads_parent + book_links[0])\n",
    "            html = page.read().decode(\"utf-8\")\n",
    "            soup = BeautifulSoup(html, \"html.parser\")\n",
    "\n",
    "            url = soup.find_all(\"div\", {\"class\", \"BookCover__image\"})[0].findChildren(\"img\")[0][\"src\"]\n",
    "            \n",
    "            if i < len(img_urls):\n",
    "                img_urls[i] = url\n",
    "            else:\n",
    "                img_urls.append(url)\n",
    "    except Exception as e:\n",
    "        if i < len(img_urls):\n",
    "            img_urls[i] = \"Error\"\n",
    "        else:\n",
    "            img_urls.append(\"Error\")\n",
    "        errors += 1"
   ]
  },
  {
   "cell_type": "code",
   "execution_count": 115,
   "metadata": {},
   "outputs": [
    {
     "data": {
      "text/plain": [
       "10000"
      ]
     },
     "execution_count": 115,
     "metadata": {},
     "output_type": "execute_result"
    }
   ],
   "source": [
    "len(img_urls)"
   ]
  },
  {
   "cell_type": "code",
   "execution_count": 121,
   "metadata": {},
   "outputs": [
    {
     "data": {
      "text/plain": [
       "0"
      ]
     },
     "execution_count": 121,
     "metadata": {},
     "output_type": "execute_result"
    }
   ],
   "source": [
    "sum([1 if \"Error\" in img_url else 0 for img_url in img_urls])"
   ]
  },
  {
   "cell_type": "code",
   "execution_count": 130,
   "metadata": {},
   "outputs": [],
   "source": [
    "dimensions = {}"
   ]
  },
  {
   "cell_type": "code",
   "execution_count": 153,
   "metadata": {},
   "outputs": [
    {
     "name": "stdout",
     "output_type": "stream",
     "text": [
      "10000/10000 errors: 0"
     ]
    }
   ],
   "source": [
    "# Checking the image sizes\n",
    "response = requests.get(img_urls[i])\n",
    "img = Image.open(BytesIO(response.content))\n",
    "img.size\n",
    "\n",
    "errors = 0\n",
    "error_vals = []\n",
    "\n",
    "for i in range(len(img_urls)):\n",
    "    sys.stdout.write(\"\\r\" + str(i + 1) + \"/\" + str(len(img_urls)) + \" errors: \" + str(errors))\n",
    "    sys.stdout.flush()\n",
    "    try:\n",
    "        response = requests.get(img_urls[i])\n",
    "        img = Image.open(BytesIO(response.content))\n",
    "        dim = str(img.size[0]) + \",\" + str(img.size[1])\n",
    "        if dim in dimensions:\n",
    "            dimensions[dim] = dimensions[dim] + 1\n",
    "        else:\n",
    "            dimensions[dim] = 1\n",
    "    except Exception as e:\n",
    "        error_vals.append(\"Error \" + str(i))\n",
    "        errors += 1"
   ]
  },
  {
   "cell_type": "code",
   "execution_count": 155,
   "metadata": {},
   "outputs": [
    {
     "data": {
      "text/plain": [
       "({'314,475': 20361}, 0)"
      ]
     },
     "execution_count": 155,
     "metadata": {},
     "output_type": "execute_result"
    }
   ],
   "source": [
    "dimensions, len(error_vals)"
   ]
  },
  {
   "cell_type": "code",
   "execution_count": 150,
   "metadata": {},
   "outputs": [
    {
     "data": {
      "text/plain": [
       "10000"
      ]
     },
     "execution_count": 150,
     "metadata": {},
     "output_type": "execute_result"
    }
   ],
   "source": [
    "len(img_urls)"
   ]
  },
  {
   "cell_type": "code",
   "execution_count": 157,
   "metadata": {},
   "outputs": [
    {
     "name": "stdout",
     "output_type": "stream",
     "text": [
      "10000/10000 errors: 0"
     ]
    }
   ],
   "source": [
    "# Downloading files\n",
    "directory = \"./data/images/\"\n",
    "error_vals = []\n",
    "errors = 0\n",
    "\n",
    "for i in range(len(img_urls)):\n",
    "    file_name = str(i) + \".jpg\"\n",
    "    sys.stdout.write(\"\\r\" + str(i + 1) + \"/\" + str(len(img_urls)) + \" errors: \" + str(errors))\n",
    "    sys.stdout.flush()\n",
    "    try:\n",
    "        response = requests.get(img_urls[i])\n",
    "        img = Image.open(BytesIO(response.content))\n",
    "        if not os.path.isfile(directory + file_name):\n",
    "            img.save(directory + file_name)\n",
    "    except Exception as e:\n",
    "        error_vals.append(\"Error \" + str(i))\n",
    "        errors += 1"
   ]
  },
  {
   "cell_type": "markdown",
   "metadata": {},
   "source": [
    "### Possible Labels"
   ]
  },
  {
   "cell_type": "code",
   "execution_count": 172,
   "metadata": {},
   "outputs": [],
   "source": [
    "# for i in range(5):\n",
    "#     print(shelf_values[random.randint(0,10000)])"
   ]
  },
  {
   "cell_type": "code",
   "execution_count": 8,
   "metadata": {},
   "outputs": [],
   "source": [
    "label_counts = {}\n",
    "\n",
    "for shelf in shelf_values:\n",
    "    for shelf_value in shelf:\n",
    "        if shelf_value in label_counts:\n",
    "            label_counts[shelf_value] = label_counts[shelf_value] + 1\n",
    "        else:\n",
    "            label_counts[shelf_value] = 1"
   ]
  },
  {
   "cell_type": "code",
   "execution_count": 9,
   "metadata": {},
   "outputs": [
    {
     "data": {
      "text/plain": [
       "648474"
      ]
     },
     "execution_count": 9,
     "metadata": {},
     "output_type": "execute_result"
    }
   ],
   "source": [
    "len(label_counts)"
   ]
  },
  {
   "cell_type": "code",
   "execution_count": 10,
   "metadata": {},
   "outputs": [
    {
     "data": {
      "text/plain": [
       "4"
      ]
     },
     "execution_count": 10,
     "metadata": {},
     "output_type": "execute_result"
    }
   ],
   "source": [
    "shelf_values[0].count(\"to-read\")"
   ]
  },
  {
   "cell_type": "code",
   "execution_count": 4,
   "metadata": {},
   "outputs": [
    {
     "data": {
      "text/plain": [
       "{0, 1, 2, 3, 4, 6, 8, 10}"
      ]
     },
     "execution_count": 4,
     "metadata": {},
     "output_type": "execute_result"
    }
   ],
   "source": [
    "set([shelf_value.count(\"to-read\") for shelf_value in shelf_values])\n",
    "# Should be {0, 1, 2, 3, 4, 6, 8, 10}"
   ]
  },
  {
   "cell_type": "code",
   "execution_count": 12,
   "metadata": {},
   "outputs": [
    {
     "data": {
      "text/plain": [
       "(648474, (29063, 'currently-reading'))"
      ]
     },
     "execution_count": 12,
     "metadata": {},
     "output_type": "execute_result"
    }
   ],
   "source": [
    "label_count_sort = list(sorted(((label_counts[label], label) for label in label_counts), reverse=True))\n",
    "len(label_count_sort), label_count_sort[0]"
   ]
  },
  {
   "cell_type": "code",
   "execution_count": 13,
   "metadata": {},
   "outputs": [
    {
     "data": {
      "text/plain": [
       "[(29063, 'currently-reading'),\n",
       " (20666, 'fiction'),\n",
       " (20485, 'to-read'),\n",
       " (20013, 'favorites'),\n",
       " (18996, 'own'),\n",
       " (18881, 'owned'),\n",
       " (18766, 'books-i-own'),\n",
       " (18105, 'wishlist'),\n",
       " (17897, 'library'),\n",
       " (17765, 'owned-books'),\n",
       " (17748, 'kindle'),\n",
       " (17525, 'to-buy'),\n",
       " (17238, 'ebook'),\n",
       " (17017, '2020'),\n",
       " (17015, '2021'),\n",
       " (16849, '2022'),\n",
       " (16789, 'my-library'),\n",
       " (16582, '2019'),\n",
       " (16576, 'my-books'),\n",
       " (16417, '2018'),\n",
       " (16180, '2017'),\n",
       " (16004, 'favourites'),\n",
       " (15768, '2016'),\n",
       " (15273, '2015'),\n",
       " (15271, 'audiobook'),\n",
       " (15150, 'default'),\n",
       " (15084, 'ebooks'),\n",
       " (14889, 'dnf'),\n",
       " (14734, 'audiobooks'),\n",
       " (14660, 'tbr'),\n",
       " (14579, '2014'),\n",
       " (14127, 'i-own'),\n",
       " (14064, 'novels'),\n",
       " (14023, 'wish-list'),\n",
       " (13800, 'audio'),\n",
       " (13570, 'young-adult'),\n",
       " (13450, '2013'),\n",
       " (13246, 'fantasy'),\n",
       " (13185, 'books'),\n",
       " (13045, 'adult'),\n",
       " (13004, 'bookshelf'),\n",
       " (12645, 'contemporary'),\n",
       " (12599, 'did-not-finish'),\n",
       " (12476, 'physical-tbr'),\n",
       " (12254, 'abandoned'),\n",
       " (12124, 'e-book'),\n",
       " (12084, '2023'),\n",
       " (12078, 'have'),\n",
       " (12072, 're-read'),\n",
       " (11832, '5-stars')]"
      ]
     },
     "execution_count": 13,
     "metadata": {},
     "output_type": "execute_result"
    }
   ],
   "source": [
    "label_count_sort[0:50]"
   ]
  },
  {
   "cell_type": "code",
   "execution_count": 16,
   "metadata": {},
   "outputs": [
    {
     "data": {
      "text/plain": [
       "{'0-999': 1291,\n",
       " '1000-1999': 8709,\n",
       " '2000-2999': 0,\n",
       " '3000-3999': 0,\n",
       " '4000-4999': 0,\n",
       " '5000-5999': 0,\n",
       " '6000-6999': 0,\n",
       " '7000-7999': 0,\n",
       " '8000-8999': 0,\n",
       " '9000-10000': 0}"
      ]
     },
     "execution_count": 16,
     "metadata": {},
     "output_type": "execute_result"
    }
   ],
   "source": [
    "lengths = list(sorted([len(shelf_value) for shelf_value in shelf_values]))\n",
    "length_dict = {\n",
    "    '0-999': 0,\n",
    "    '1000-1999': 0,\n",
    "    '2000-2999': 0,\n",
    "    '3000-3999': 0,\n",
    "    '4000-4999': 0,\n",
    "    '5000-5999': 0,\n",
    "    '6000-6999': 0,\n",
    "    '7000-7999': 0,\n",
    "    '8000-8999': 0,\n",
    "    '9000-10000': 0\n",
    "}\n",
    "\n",
    "for length in lengths:\n",
    "    if length < 1000:\n",
    "        length_dict['0-999'] += 1\n",
    "    elif 1000 <= length < 2000:\n",
    "        length_dict['1000-1999'] += 1\n",
    "    elif 2000 <= length < 3000:\n",
    "        length_dict['2000-2999'] += 1\n",
    "    elif 3000 <= length < 4000:\n",
    "        length_dict['3000-3999'] += 1\n",
    "    elif 4000 <= length < 5000:\n",
    "        length_dict['4000-4999'] += 1\n",
    "    elif 5000 <= length < 6000:\n",
    "        length_dict['5000-5999'] += 1\n",
    "    elif 6000 <= length < 7000:\n",
    "        length_dict['6000-6999'] += 1\n",
    "    elif 7000 <= length < 8000:\n",
    "        length_dict['7000-7999'] += 1\n",
    "    elif 8000 <= length < 9000:\n",
    "        length_dict['8000-8999'] += 1\n",
    "    else:\n",
    "        length_dict['9000-10000'] += 1\n",
    "    \n",
    "length_dict"
   ]
  },
  {
   "cell_type": "code",
   "execution_count": 17,
   "metadata": {},
   "outputs": [
    {
     "data": {
      "text/plain": [
       "8709"
      ]
     },
     "execution_count": 17,
     "metadata": {},
     "output_type": "execute_result"
    }
   ],
   "source": [
    "sum([1 for shelf_value in shelf_values if len(shelf_value) == 1000])"
   ]
  },
  {
   "cell_type": "code",
   "execution_count": 35,
   "metadata": {},
   "outputs": [
    {
     "data": {
      "text/plain": [
       "10000"
      ]
     },
     "execution_count": 35,
     "metadata": {},
     "output_type": "execute_result"
    }
   ],
   "source": [
    "sum([1 for shelf_value in shelf_values if\n",
    "    any([\n",
    "        any([\n",
    "            synonym in word\n",
    "        for synonym in ['fun', 'happy', 'cheer', 'joy']])\n",
    "    for word in shelf])\n",
    "])"
   ]
  },
  {
   "cell_type": "code",
   "execution_count": 42,
   "metadata": {},
   "outputs": [
    {
     "data": {
      "text/plain": [
       "'funny'"
      ]
     },
     "execution_count": 42,
     "metadata": {},
     "output_type": "execute_result"
    }
   ],
   "source": [
    "next(\n",
    "    word for word in shelf_values[9999] if any([\n",
    "        synonym in word for synonym in ['fun', 'happy', 'cheer', 'joy']\n",
    "    ]\n",
    "    )\n",
    ")"
   ]
  },
  {
   "cell_type": "code",
   "execution_count": 43,
   "metadata": {},
   "outputs": [
    {
     "data": {
      "text/plain": [
       "('/book/show/35503.Without_Feathers',\n",
       " ['to-read',\n",
       "  'humor',\n",
       "  'currently-reading',\n",
       "  'fiction',\n",
       "  'short-stories',\n",
       "  'comedy',\n",
       "  'favorites',\n",
       "  'humour',\n",
       "  'own',\n",
       "  'non-fiction',\n",
       "  'owned',\n",
       "  'essays',\n",
       "  'american',\n",
       "  'funny',\n",
       "  'default',\n",
       "  'books-i-own',\n",
       "  'nonfiction',\n",
       "  'contemporary',\n",
       "  'literature',\n",
       "  'owned-books',\n",
       "  'wishlist',\n",
       "  'woody-allen',\n",
       "  'audiobook',\n",
       "  'stories',\n",
       "  'plays',\n",
       "  'library',\n",
       "  'short-story',\n",
       "  '20th-century',\n",
       "  '2010',\n",
       "  'to-buy',\n",
       "  'jewish',\n",
       "  'american-literature',\n",
       "  'short-fiction',\n",
       "  'my-library',\n",
       "  '2018',\n",
       "  '2014',\n",
       "  'humor-satire',\n",
       "  'usa',\n",
       "  'umorismo',\n",
       "  'play',\n",
       "  '2017',\n",
       "  '2016',\n",
       "  '2015',\n",
       "  'collection',\n",
       "  'audiobooks',\n",
       "  '2012',\n",
       "  'satire',\n",
       "  '2019',\n",
       "  'memoir',\n",
       "  'narrativa',\n",
       "  'my-books',\n",
       "  '2011',\n",
       "  'drama',\n",
       "  '2020',\n",
       "  'contos',\n",
       "  'novels',\n",
       "  'literatura',\n",
       "  'english',\n",
       "  '50-books-that-will-change-your-life',\n",
       "  'united-states',\n",
       "  'i-own',\n",
       "  'contemporary-fiction',\n",
       "  '1970s',\n",
       "  'americana',\n",
       "  'short-story-collection',\n",
       "  'finished',\n",
       "  'anthology',\n",
       "  'biography',\n",
       "  'ebook',\n",
       "  'audible',\n",
       "  'funny-stuff',\n",
       "  'classics',\n",
       "  'adult',\n",
       "  '2022',\n",
       "  'to-read-fiction',\n",
       "  'not-interested',\n",
       "  'north-america',\n",
       "  'mine',\n",
       "  'mylibrary',\n",
       "  'abandoned',\n",
       "  'dnf',\n",
       "  'teatro',\n",
       "  'short-story-collections',\n",
       "  'tenho',\n",
       "  'paperback',\n",
       "  'anthologies',\n",
       "  'adult-fiction',\n",
       "  'biblioteca',\n",
       "  'fiction-english',\n",
       "  'partially-read',\n",
       "  'never-finished',\n",
       "  'fun',\n",
       "  'ficção',\n",
       "  'unfinished',\n",
       "  'theater',\n",
       "  'short-stories-essays',\n",
       "  'humour-satire',\n",
       "  'poetry',\n",
       "  'racconti',\n",
       "  'cuentos',\n",
       "  'to-read',\n",
       "  'humor',\n",
       "  'currently-reading',\n",
       "  'fiction',\n",
       "  'short-stories',\n",
       "  'comedy',\n",
       "  'favorites',\n",
       "  'humour',\n",
       "  'own',\n",
       "  'non-fiction',\n",
       "  'owned',\n",
       "  'essays',\n",
       "  'american',\n",
       "  'funny',\n",
       "  'default',\n",
       "  'books-i-own',\n",
       "  'nonfiction',\n",
       "  'contemporary',\n",
       "  'literature',\n",
       "  'owned-books',\n",
       "  'wishlist',\n",
       "  'woody-allen',\n",
       "  'audiobook',\n",
       "  'stories',\n",
       "  'plays',\n",
       "  'library',\n",
       "  'short-story',\n",
       "  '20th-century',\n",
       "  '2010',\n",
       "  'to-buy',\n",
       "  'jewish',\n",
       "  'american-literature',\n",
       "  'short-fiction',\n",
       "  'my-library',\n",
       "  '2018',\n",
       "  '2014',\n",
       "  'humor-satire',\n",
       "  'usa',\n",
       "  'umorismo',\n",
       "  'play',\n",
       "  '2017',\n",
       "  '2016',\n",
       "  '2015',\n",
       "  'collection',\n",
       "  'audiobooks',\n",
       "  '2012',\n",
       "  'satire',\n",
       "  '2019',\n",
       "  'memoir',\n",
       "  'narrativa',\n",
       "  'my-books',\n",
       "  '2011',\n",
       "  'drama',\n",
       "  '2020',\n",
       "  'contos',\n",
       "  'novels',\n",
       "  'literatura',\n",
       "  'english',\n",
       "  '50-books-that-will-change-your-life',\n",
       "  'united-states',\n",
       "  'i-own',\n",
       "  'contemporary-fiction',\n",
       "  '1970s',\n",
       "  'americana',\n",
       "  'short-story-collection',\n",
       "  'finished',\n",
       "  'anthology',\n",
       "  'biography',\n",
       "  'ebook',\n",
       "  'audible',\n",
       "  'funny-stuff',\n",
       "  'classics',\n",
       "  'adult',\n",
       "  '2022',\n",
       "  'to-read-fiction',\n",
       "  'not-interested',\n",
       "  'north-america',\n",
       "  'mine',\n",
       "  'mylibrary',\n",
       "  'abandoned',\n",
       "  'dnf',\n",
       "  'teatro',\n",
       "  'short-story-collections',\n",
       "  'tenho',\n",
       "  'paperback',\n",
       "  'anthologies',\n",
       "  'adult-fiction',\n",
       "  'biblioteca',\n",
       "  'fiction-english',\n",
       "  'partially-read',\n",
       "  'never-finished',\n",
       "  'fun',\n",
       "  'ficção',\n",
       "  'unfinished',\n",
       "  'theater',\n",
       "  'short-stories-essays',\n",
       "  'humour-satire',\n",
       "  'poetry',\n",
       "  'racconti',\n",
       "  'cuentos',\n",
       "  'allen-woody',\n",
       "  'american-lit',\n",
       "  'shorts',\n",
       "  'audio',\n",
       "  'read-in-english',\n",
       "  'hilarious',\n",
       "  '1',\n",
       "  'us',\n",
       "  'novel',\n",
       "  'misc',\n",
       "  'palier',\n",
       "  'north-american',\n",
       "  're-reading',\n",
       "  '2021',\n",
       "  'pre-goodreads',\n",
       "  '1980s',\n",
       "  'argo-aaa',\n",
       "  'nonfiction-essays',\n",
       "  'story',\n",
       "  'fiction-literature',\n",
       "  'art',\n",
       "  'theatre',\n",
       "  'cultural-american',\n",
       "  'drama-theatre',\n",
       "  '2013',\n",
       "  'bookcase',\n",
       "  'read-in-2018',\n",
       "  'short',\n",
       "  'i-own-this',\n",
       "  'read-in-czech',\n",
       "  'ultimate-reading-list',\n",
       "  'book-nook',\n",
       "  'on-my-shelf',\n",
       "  'cinema',\n",
       "  'my-shelf',\n",
       "  'done',\n",
       "  'pop',\n",
       "  'all-time-favourites',\n",
       "  'comedy-humor',\n",
       "  'amusing',\n",
       "  'male-authors',\n",
       "  '2015-reads',\n",
       "  'favorite-books',\n",
       "  'kindle',\n",
       "  'do-not-own',\n",
       "  'college',\n",
       "  'gave-up-on',\n",
       "  'letteratura-americana',\n",
       "  'shelf',\n",
       "  'read-in-2014',\n",
       "  'new-york',\n",
       "  'physical-books',\n",
       "  'bookshelf',\n",
       "  'classic',\n",
       "  'a',\n",
       "  'short_stories',\n",
       "  'sullo-scaffale',\n",
       "  'studies',\n",
       "  'in-english',\n",
       "  'could-not-finish',\n",
       "  'philosophy',\n",
       "  'used-to-own',\n",
       "  'study',\n",
       "  'modern-fiction',\n",
       "  'not-comics',\n",
       "  'read-in-2012',\n",
       "  'essay',\n",
       "  'my-bookshelf',\n",
       "  'no',\n",
       "  'borrowed',\n",
       "  'collections',\n",
       "  '1970-s',\n",
       "  'partly-read',\n",
       "  'personal-collection',\n",
       "  'paper',\n",
       "  'nyc',\n",
       "  'general',\n",
       "  'literary',\n",
       "  'estados-unidos',\n",
       "  'have',\n",
       "  'shortstories',\n",
       "  'read-long-ago',\n",
       "  'humorous',\n",
       "  'humorists',\n",
       "  'complete-idiots-guide-ultimate-read',\n",
       "  '2002',\n",
       "  'for-school',\n",
       "  '2008',\n",
       "  'libro',\n",
       "  'español',\n",
       "  'libri-del-passato',\n",
       "  'marmottini',\n",
       "  'digital',\n",
       "  'pwned',\n",
       "  'essays_stories_to<br/>_read',\n",
       "  'autori-statunitensi',\n",
       "  'added-to-sheet',\n",
       "  'titles',\n",
       "  'allen',\n",
       "  '2023',\n",
       "  'plays-and-short-stories',\n",
       "  'three-star',\n",
       "  'short-stories-and-novellas',\n",
       "  'filmovky',\n",
       "  'softcover',\n",
       "  'cond-new-excellent',\n",
       "  'юмор-сатира',\n",
       "  'owned-previously-14000',\n",
       "  'must-read',\n",
       "  '2023-normal',\n",
       "  'literatura-contemporánea',\n",
       "  'ensayo',\n",
       "  'biblioteca-digital',\n",
       "  'zz-00-donated',\n",
       "  'essai',\n",
       "  'discovered-in-the-80s',\n",
       "  'bompiani',\n",
       "  'us-and-canada',\n",
       "  'novelas',\n",
       "  'libreria',\n",
       "  'u-s-of-a',\n",
       "  'read-skønlitteratur',\n",
       "  'will-continue',\n",
       "  'preferiti',\n",
       "  'owned-read',\n",
       "  'māksla',\n",
       "  'izskatītas',\n",
       "  'prefe',\n",
       "  'romāns-vai-stāsti',\n",
       "  'read-print',\n",
       "  'anticamera-8',\n",
       "  'home-read',\n",
       "  'n10k',\n",
       "  'dr-rcb-main',\n",
       "  'τζάκι-2ος',\n",
       "  'z-tagged-in-2021',\n",
       "  'toberead',\n",
       "  'not-yet-read',\n",
       "  'knižnica',\n",
       "  'i-alt-format',\n",
       "  'col-stacypersonal',\n",
       "  'col-stacy',\n",
       "  'books-all',\n",
       "  'autori-a-d',\n",
       "  'all-owned',\n",
       "  'all-books',\n",
       "  '3a',\n",
       "  'narrativa-statunitense',\n",
       "  'mlibrary',\n",
       "  'mainstream-fiction',\n",
       "  'lit-i-luv',\n",
       "  'humor-comedies',\n",
       "  'g-plays',\n",
       "  'g-humour',\n",
       "  'director-allen',\n",
       "  'by-papa',\n",
       "  'biography-memoir',\n",
       "  'author-not-for-me',\n",
       "  'adult-library',\n",
       "  'mal-amados',\n",
       "  'danh-mục-sách',\n",
       "  '4a-ngoại-văn-tiếng-anh',\n",
       "  '1c-truyện-ngắn',\n",
       "  'us-literature',\n",
       "  'read-fiction-prose',\n",
       "  'md-paper',\n",
       "  'laughs-chuckles-smiles',\n",
       "  'ga-fiction',\n",
       "  'funny-and-humor-books',\n",
       "  'e-book',\n",
       "  '12-months-12-books',\n",
       "  'my-books-1',\n",
       "  'chester',\n",
       "  'nonfic-general',\n",
       "  'other-non-fiction',\n",
       "  'mios',\n",
       "  'couldn-t-finish',\n",
       "  'owed',\n",
       "  'نمایشنامه',\n",
       "  'in-sheve',\n",
       "  'book-i-have',\n",
       "  'potentially',\n",
       "  'own-book',\n",
       "  'literary-theory-essay-and-so-on',\n",
       "  'mama-terraza-centro-izda',\n",
       "  'obhr',\n",
       "  'celebrity-memoirs',\n",
       "  'xxshort-stories',\n",
       "  'aa',\n",
       "  'second-sort-books',\n",
       "  'o-maybe',\n",
       "  '3',\n",
       "  'dmw-to-read-may-2022',\n",
       "  'decided-not-to-read',\n",
       "  'author-behaving-badly',\n",
       "  'humour-shelf',\n",
       "  'favorites-o-a-t',\n",
       "  'philosophical',\n",
       "  'kitaplık-raf-3',\n",
       "  'other',\n",
       "  'before-2016-trying-to-update',\n",
       "  'in-my-apartment',\n",
       "  'laia',\n",
       "  'lvgrm-ul-1',\n",
       "  'usati',\n",
       "  'plays-drama',\n",
       "  'french',\n",
       "  'crónica',\n",
       "  'exams',\n",
       "  'biblioteca-propia',\n",
       "  'plays-tbr',\n",
       "  'roman-essai-nouvelle',\n",
       "  'eng',\n",
       "  'scripts',\n",
       "  'comedy-and-satire',\n",
       "  'upgrade',\n",
       "  'embarrassing',\n",
       "  'white-anglo-male',\n",
       "  'availables',\n",
       "  'in-personal-library',\n",
       "  'owned-owned-owned',\n",
       "  'journalism',\n",
       "  'mam-w-domu',\n",
       "  'داستان-جهان',\n",
       "  'to-read-2022',\n",
       "  'favoritos',\n",
       "  'nowhere',\n",
       "  'eknihy',\n",
       "  'c-literature',\n",
       "  '1400',\n",
       "  'e-4',\n",
       "  'ss1',\n",
       "  'farklı-baskı',\n",
       "  'bib-prs',\n",
       "  'bib-bdx',\n",
       "  'in-polish',\n",
       "  'el-pais',\n",
       "  'biblioteca-audible',\n",
       "  'türkçe',\n",
       "  'vlastní_knihovna',\n",
       "  'рекомендации-youtube',\n",
       "  'have-but-haven-t-read',\n",
       "  'retained_by_kathy',\n",
       "  'f-a-v',\n",
       "  'futbol-y-cine',\n",
       "  'knihovna',\n",
       "  'the-white-bookshelf-at-home',\n",
       "  'kottayam-public-library',\n",
       "  'to-read-ebook',\n",
       "  'thriller',\n",
       "  'i-have',\n",
       "  'essays-and-literary-criticism',\n",
       "  'fiction-plays',\n",
       "  'south-wide-1',\n",
       "  'format-paperback',\n",
       "  'on-my-kindle',\n",
       "  'the-essentials',\n",
       "  'directors',\n",
       "  'creativity',\n",
       "  'libri-2021',\n",
       "  '70s',\n",
       "  'books-read-in-the-past',\n",
       "  'salone-4-g',\n",
       "  'smích',\n",
       "  'favorite',\n",
       "  '1976',\n",
       "  'ya-los-tengo-ahora-toca-leerlos',\n",
       "  'books-i-own-to-read',\n",
       "  'onmyphysicalbooks<br/>helf',\n",
       "  'preppy',\n",
       "  'non-letto-in-libreria',\n",
       "  'na-kindlu',\n",
       "  'dvk',\n",
       "  'livros',\n",
       "  'not-a-picture-book',\n",
       "  'books-i-have',\n",
       "  'lumiar',\n",
       "  'read-aloud-2018-2019',\n",
       "  'ev',\n",
       "  'bio',\n",
       "  'slaapkamer',\n",
       "  'matérialisme-livresque',\n",
       "  'sẽ-mua',\n",
       "  'top-rated',\n",
       "  'piones',\n",
       "  'multiple-reads',\n",
       "  'сатира',\n",
       "  'американска-проза',\n",
       "  'not-own',\n",
       "  'owned-book',\n",
       "  'owned-audio',\n",
       "  '2021-reading-challenge',\n",
       "  'on-the-bookshelf',\n",
       "  'all',\n",
       "  '2020-audiobooks',\n",
       "  'club-de-lectura-libros-olvidados',\n",
       "  '1990-2000-post-college',\n",
       "  'mystery-fiction-box-15',\n",
       "  'undervalued',\n",
       "  're-read',\n",
       "  'audible-com',\n",
       "  'essay-collection',\n",
       "  '6',\n",
       "  'ficcao',\n",
       "  'celeb-r',\n",
       "  'همه-منتظریم',\n",
       "  'z_idioma_greek',\n",
       "  'y_lit_usa',\n",
       "  'nein-nein-nein',\n",
       "  'literature-usa',\n",
       "  'carnets',\n",
       "  'available',\n",
       "  'all-my-books',\n",
       "  '6-worthwhile',\n",
       "  'to-deep-read',\n",
       "  'owned-in-paper',\n",
       "  'humour-comedy',\n",
       "  'genre-humour',\n",
       "  'b-read-in-2017',\n",
       "  'b-own-it',\n",
       "  'b-non-technical-books',\n",
       "  'a-fiction',\n",
       "  '0-sct-đà-nẵng',\n",
       "  'dostupné-v-čj',\n",
       "  'bip',\n",
       "  'беллетристика',\n",
       "  'under-10-thousand-ratings',\n",
       "  'on-shelf-pre-gr',\n",
       "  'laughed-audibly',\n",
       "  'δανειστική-βιβλιοθήκη-λ',\n",
       "  'gift-that-keeps-on-giving',\n",
       "  'biblio_10k',\n",
       "  'script',\n",
       "  'in-my-library',\n",
       "  'warner',\n",
       "  'hard-copies',\n",
       "  'to-read-library',\n",
       "  'on-humor',\n",
       "  'lost-interest',\n",
       "  'bmra',\n",
       "  'northamerica',\n",
       "  'da-comprare',\n",
       "  'minaki',\n",
       "  'rread',\n",
       "  'norte-americana',\n",
       "  'culture-jewish',\n",
       "  '21e-siècle',\n",
       "  '20e-siècle',\n",
       "  'współczesna',\n",
       "  'opowiadania',\n",
       "  'moje-własne',\n",
       "  '0-sct-hà-nội',\n",
       "  'pending-in-my-shelf',\n",
       "  'pavan',\n",
       "  'tv-b-1',\n",
       "  'free-archive-org',\n",
       "  '1960-99-lit',\n",
       "  'siren_yayinlari',\n",
       "  'basement-bin-3',\n",
       "  'lo-tengo',\n",
       "  'bidgol-pub',\n",
       "  'octbrchallenge202<br/>0',\n",
       "  'business-and-pd',\n",
       "  '10-ft',\n",
       "  'posiadane-papier',\n",
       "  'on-hand',\n",
       "  '1001plus1',\n",
       "  'story-collections',\n",
       "  'siglo-xx',\n",
       "  'norte-américa',\n",
       "  'cine',\n",
       "  'autores-hombres',\n",
       "  'anglo',\n",
       "  '5-przygotowanie-do-podrozy',\n",
       "  '3-literatura-angielskojezyczna',\n",
       "  '3-in-english',\n",
       "  '2-ameryka',\n",
       "  '1-z-biblioteki',\n",
       "  'rs-50-books-that-will-change-your-l',\n",
       "  'bøker-jeg-har',\n",
       "  'need-to-buy',\n",
       "  '2020-reading-challenge',\n",
       "  'fiction-romance',\n",
       "  'not-sure-check',\n",
       "  'okudum',\n",
       "  'internetarchive-wishlist-it',\n",
       "  'it-wikipedia',\n",
       "  'prevention-happiness',\n",
       "  'ebook_ready',\n",
       "  'livros-engraçados',\n",
       "  'salone-ostia-b1',\n",
       "  'fav-humor',\n",
       "  'vroegtijdig-gestopt',\n",
       "  'gignese',\n",
       "  'archive',\n",
       "  '1960s-1970s',\n",
       "  'kniznica',\n",
       "  'evdekihazine',\n",
       "  '1965-present',\n",
       "  'own_print',\n",
       "  'box-3',\n",
       "  'by-rec-not-to-read',\n",
       "  'authors-to-avoid-for-reasons',\n",
       "  '3-star-books',\n",
       "  '03-in-attesa',\n",
       "  'editora-bertrand',\n",
       "  'flm',\n",
       "  'autre',\n",
       "  'b1',\n",
       "  'hilarity-ensued',\n",
       "  'ante',\n",
       "  'lu-en-2019',\n",
       "  'readingchallenge-2019',\n",
       "  'book-hoard',\n",
       "  'to-read-longlist',\n",
       "  'cultural',\n",
       "  'daily-life',\n",
       "  'c_novel-prose',\n",
       "  'books-looking-to-have',\n",
       "  '81-american-literature-in-english',\n",
       "  'risa',\n",
       "  'my-book-shelf',\n",
       "  'biographies',\n",
       "  '2019-read',\n",
       "  'plays-and-screeplays',\n",
       "  'read-by-pete',\n",
       "  'move',\n",
       "  'zz-4star',\n",
       "  'my-book-collection',\n",
       "  'i-quit',\n",
       "  'currently-own',\n",
       "  '8-literature',\n",
       "  'z1976',\n",
       "  'the-high-low',\n",
       "  'sugestii',\n",
       "  'inside-of-a-dog',\n",
       "  'edice-anglo-amerických-autorů',\n",
       "  'audible-library',\n",
       "  'cuentos-relatos',\n",
       "  'priority-fun',\n",
       "  'film-related',\n",
       "  'budapest',\n",
       "  'siglo-xx-otros',\n",
       "  'inne',\n",
       "  'replace-later',\n",
       "  'bookclub-suggestions',\n",
       "  'pal-maison',\n",
       "  'modern-drama',\n",
       "  'unread-shelf',\n",
       "  'ادبیات-امریکا',\n",
       "  'کتابخانه-ما',\n",
       "  '6a-us-lit-a',\n",
       "  'unread-books-on-my-bookshelf',\n",
       "  'my-audible-library',\n",
       "  'books-in-the-house',\n",
       "  '_english',\n",
       "  '_audio',\n",
       "  '1972-x',\n",
       "  'anf-800-humor',\n",
       "  'most-want-to-read',\n",
       "  'owned-books-to-read',\n",
       "  'fiction-humour',\n",
       "  'unterhaltung',\n",
       "  'literary-fiction',\n",
       "  'short-stories-collection',\n",
       "  'short-reads-sub-300-pages',\n",
       "  '1945-2000',\n",
       "  'shortstories-theatre',\n",
       "  'lit-norteamericana',\n",
       "  'humor-bizarro',\n",
       "  'euro-american',\n",
       "  'short-stories-and-essays',\n",
       "  'b_owned-paper-book',\n",
       "  'readbooks-male-author-or-illust',\n",
       "  'read-in-2011',\n",
       "  'own-a-copy',\n",
       "  'en-ingles',\n",
       "  'waiting',\n",
       "  'americas',\n",
       "  'la-libreria-di-filippo',\n",
       "  '100knih',\n",
       "  'short-stories-anthologies',\n",
       "  'feria-del-libro',\n",
       "  'fiona-s-list',\n",
       "  'a1',\n",
       "  'lido',\n",
       "  'turkish',\n",
       "  'oh',\n",
       "  'literatura-anglófona',\n",
       "  'literature-poetry',\n",
       "  'nakl-argo',\n",
       "  'esquire-30-funniest',\n",
       "  'comedy-esquire',\n",
       "  'comedy-humour',\n",
       "  'borrowed-books',\n",
       "  'myshelf',\n",
       "  'judaica',\n",
       "  'literatura-eeuu',\n",
       "  '0-owned-audible',\n",
       "  'kolekcija',\n",
       "  'd-o',\n",
       "  'living-room-center-6',\n",
       "  'archive-org',\n",
       "  'favourite',\n",
       "  'us-books',\n",
       "  'mmpb',\n",
       "  'realistico',\n",
       "  'old',\n",
       "  'mio-ho-detto-mio',\n",
       "  '01-anni-passati',\n",
       "  'won-gift',\n",
       "  'owned-unread',\n",
       "  'may-consider',\n",
       "  'the-fun-stuff',\n",
       "  'bookclub',\n",
       "  'didn-t-like',\n",
       "  'theatre-plays',\n",
       "  'some-other-fiction',\n",
       "  'short-stories-novellas',\n",
       "  'pin',\n",
       "  'paya',\n",
       "  'otr',\n",
       "  'home-library-all',\n",
       "  'enespñ',\n",
       "  'collections-and-anthologies',\n",
       "  'cinema-tv-media',\n",
       "  'why-so-serious',\n",
       "  'uk-us-au',\n",
       "  'theatre-film-poetry',\n",
       "  'tbr-ebook',\n",
       "  'since-2010',\n",
       "  'short-stories-books',\n",
       "  'short-stories-a-e',\n",
       "  'popsugar2016',\n",
       "  'place-débédés',\n",
       "  'own-physical-copies',\n",
       "  'olästa',\n",
       "  'obra-literaria',\n",
       "  'novels-to-read',\n",
       "  'non-sequitur',\n",
       "  'nationalité-états-unis',\n",
       "  'make-em-laugh',\n",
       "  'literature-and-interests',\n",
       "  'listened',\n",
       "  'humour-feroce-ironia-e-dintorni',\n",
       "  'ha-ha',\n",
       "  'guillermo-del-toro',\n",
       "  'genre-fragments-maximes-notes',\n",
       "  'ficción',\n",
       "  'dearly-departed',\n",
       "  'cluster-yuk',\n",
       "  'book-to-movie',\n",
       "  'book-list',\n",
       "  'art-plays',\n",
       "  'america-fiction',\n",
       "  '30-49',\n",
       "  '20th-c-lit',\n",
       "  '02-romanzi-racconti-teatro',\n",
       "  'z-read-2013',\n",
       "  'wit-humor',\n",
       "  'vtipne',\n",
       "  'poviedkove',\n",
       "  'parcialmente-leídos',\n",
       "  'owns-d',\n",
       "  'my-books-read',\n",
       "  'maybe-read',\n",
       "  'letras',\n",
       "  'kitaplık',\n",
       "  'jorge-amado',\n",
       "  'humor-written',\n",
       "  'humor-comedy-satire',\n",
       "  'humor-and-comedy',\n",
       "  'have-a-laugh',\n",
       "  'gifted-to-someone',\n",
       "  'criticism-humor-non-fiction',\n",
       "  'cafofo',\n",
       "  '4-modern',\n",
       "  '3b-lett-statunitense',\n",
       "  '3a-comedy',\n",
       "  '20th-century-lit',\n",
       "  '2007-and-earlier',\n",
       "  '2-print',\n",
       "  '2-lingua-italiana',\n",
       "  '1-ebook',\n",
       "  '1-borrowed',\n",
       "  'read-novels-essays',\n",
       "  'read-96-05',\n",
       "  'my-all-time-favourite-books',\n",
       "  'in-finnish-suomeksi',\n",
       "  'film-and-television',\n",
       "  'de-usa',\n",
       "  'a-my-english-library',\n",
       "  '1989',\n",
       "  'americani',\n",
       "  'word-literature',\n",
       "  'otra-ed',\n",
       "  'books-in-english',\n",
       "  'satira',\n",
       "  'kütüphanem',\n",
       "  'literatura-estados-unidos',\n",
       "  'amerikani',\n",
       "  'طنز',\n",
       "  'for-review',\n",
       "  'auto-or-biography',\n",
       "  'to-sort',\n",
       "  'required-reading',\n",
       "  'read-2017',\n",
       "  'read-93',\n",
       "  'film-making',\n",
       "  'library-books',\n",
       "  'relatos',\n",
       "  'comedy-and-humour',\n",
       "  'anglophone',\n",
       "  'cathy-s-books',\n",
       "  'fiction-humor',\n",
       "  'satire-comedy',\n",
       "  'own-it',\n",
       "  'gme-closet',\n",
       "  'girls',\n",
       "  'libros-que-tengo',\n",
       "  'read-in-2017',\n",
       "  'best-books',\n",
       "  'very-funny',\n",
       "  'books-i-must-read-before-2018',\n",
       "  'vlastní-knihy',\n",
       "  'tv-regal',\n",
       "  'guillermo-del-toro-s-suggestions',\n",
       "  'in-near-future',\n",
       "  'fun-reads',\n",
       "  'great-books',\n",
       "  '3-lang-español',\n",
       "  'gave-in',\n",
       "  'donated',\n",
       "  'scanned',\n",
       "  '3-fiction',\n",
       "  'have-at-home',\n",
       "  'read-2016-and-before',\n",
       "  'maybe-to-read',\n",
       "  'papel',\n",
       "  'žánr_humor',\n",
       "  'beletrie_americká',\n",
       "  'lykke-li-inspired',\n",
       "  'right-4',\n",
       "  '1-temp-to-be-cleaned-up-already-rea',\n",
       "  'humor-comedy',\n",
       "  'g-m',\n",
       "  'quit',\n",
       "  'need',\n",
       "  'owned-and-unread',\n",
       "  'read-in-2016',\n",
       "  'to-read-that-i-don-t-own',\n",
       "  'easy-reading',\n",
       "  'kitaplığımdan',\n",
       "  '3-books',\n",
       "  'libros-navia',\n",
       "  'sranda',\n",
       "  'genre-romans',\n",
       "  'editions-points',\n",
       "  'fav',\n",
       "  'personal-library',\n",
       "  'byebooks',\n",
       "  'chcę-przeczytać-mam',\n",
       "  'four-star-fiction',\n",
       "  'enbiblio',\n",
       "  'miscellaneous',\n",
       "  'pivot-rire',\n",
       "  'epoque-1950-1975',\n",
       "  'the-buy-list',\n",
       "  '2016-20-books-goal',\n",
       "  'inventory',\n",
       "  'film-critic-hulk-s-recommendations',\n",
       "  'lit-modern-usa',\n",
       "  'hamburger',\n",
       "  'later',\n",
       "  'original-gelesen',\n",
       "  'from-library',\n",
       "  'in-our-library',\n",
       "  'white-male',\n",
       "  'formative-high-school-reading-from',\n",
       "  'no_ebook',\n",
       "  'vs',\n",
       "  'korte-verhalen',\n",
       "  'surfeit',\n",
       "  'celebrity',\n",
       "  'arti',\n",
       "  'stream-of-consciousness',\n",
       "  'huumori',\n",
       "  'shelfari-humor',\n",
       "  'jim',\n",
       "  'wendy-i1',\n",
       "  'jewish-literature',\n",
       "  'usa-literature',\n",
       "  'own-to-read-299-pages-or-less',\n",
       "  'os-meus-livros',\n",
       "  'binned',\n",
       "  'listened-to',\n",
       "  'short-stories-flash-fiction',\n",
       "  'dark-humour',\n",
       "  'to-recommend',\n",
       "  'crazy-enjoyable',\n",
       "  'shelfari-wishlist',\n",
       "  'in-rome',\n",
       "  'comic',\n",
       "  'sigloxx',\n",
       "  'país-estadosunidos',\n",
       "  'género-teatro',\n",
       "  'género-cuentos',\n",
       "  'década1970',\n",
       "  'past-reads',\n",
       "  'important-books-to-read-weekends',\n",
       "  'dolce-cazzeggio',\n",
       "  'read-as-a-kid',\n",
       "  'guillermo-recs',\n",
       "  'good-comedy',\n",
       "  'temporarily-shelved',\n",
       "  'read-in-2015',\n",
       "  'inspiration',\n",
       "  'literatura-narativas-breves',\n",
       "  'highly-recommended-to-me',\n",
       "  'readings',\n",
       "  'modern',\n",
       "  'pop-weekend-reads',\n",
       "  'writing',\n",
       "  'simulation',\n",
       "  '5-stars',\n",
       "  'مجموعه-داستان',\n",
       "  'امریکا',\n",
       "  'laughing-out-loud',\n",
       "  'temos',\n",
       "  '2015-read',\n",
       "  'literature-ادبیات',\n",
       "  'two',\n",
       "  'humor-essays',\n",
       "  '5-estrelas',\n",
       "  'read-now',\n",
       "  '50-books-to-change-your-life',\n",
       "  'note',\n",
       "  'read-and-loved',\n",
       "  'imac',\n",
       "  'sem-data-no-date',\n",
       "  '2015-08',\n",
       "  'top',\n",
       "  'all-stuff',\n",
       "  'lol-books',\n",
       "  'narrativa-estera',\n",
       "  'august-reading-list',\n",
       "  'collezione-libri-di-ettore',\n",
       "  'bea-hilarious-to-read',\n",
       "  'buzzfeed-s-35-hilarious-books',\n",
       "  'žánr-povídky',\n",
       "  'edice-argo-aaa',\n",
       "  'teen-reads',\n",
       "  'barbara',\n",
       "  'mi-biblioteca',\n",
       "  'in-my-shelves',\n",
       "  '20th-cent',\n",
       "  'best-i-ve-read',\n",
       "  'own-but-not-read',\n",
       "  'dusty-shelf-challenge',\n",
       "  'escrita_blog',\n",
       "  'postmodernism',\n",
       "  'read-in-italian',\n",
       "  '2015-books',\n",
       "  'whimsy',\n",
       "  'spring-2015',\n",
       "  'shortstory-shortstories-novellas',\n",
       "  'published-1972',\n",
       "  'existentialism',\n",
       "  'lit-american',\n",
       "  'beach-fun-fiction',\n",
       "  'narrativa-bla-bla-bla',\n",
       "  'deneme',\n",
       "  'class-readings',\n",
       "  'famous-people',\n",
       "  'audience-adults',\n",
       "  'america-and-canada',\n",
       "  '2003',\n",
       "  'books',\n",
       "  'before-goodreads',\n",
       "  'novela',\n",
       "  'to-tag',\n",
       "  'getrid',\n",
       "  'the-first-thousand',\n",
       "  'will-not-read',\n",
       "  'author-boycott',\n",
       "  'best-humor',\n",
       "  'to-read-classics',\n",
       "  'tv-c',\n",
       "  'to-reread',\n",
       "  'basement-library-shelves',\n",
       "  'interesting-people',\n",
       "  'print-book',\n",
       "  'side',\n",
       "  'kratke-price',\n",
       "  '2009',\n",
       "  'top-100',\n",
       "  'z-humor',\n",
       "  'dramatik',\n",
       "  'kaunokirjallisuus',\n",
       "  'a-own'])"
      ]
     },
     "execution_count": 43,
     "metadata": {},
     "output_type": "execute_result"
    }
   ],
   "source": [
    "book_links[9999], shelf_values[9999]"
   ]
  },
  {
   "cell_type": "code",
   "execution_count": 166,
   "metadata": {},
   "outputs": [
    {
     "data": {
      "text/plain": [
       "(True, 4140)"
      ]
     },
     "execution_count": 166,
     "metadata": {},
     "output_type": "execute_result"
    }
   ],
   "source": [
    "'fun' in label_counts, label"
   ]
  },
  {
   "cell_type": "code",
   "execution_count": 168,
   "metadata": {},
   "outputs": [
    {
     "data": {
      "text/plain": [
       "(4140, 88, 1714, 230)"
      ]
     },
     "execution_count": 168,
     "metadata": {},
     "output_type": "execute_result"
    }
   ],
   "source": [
    "label_counts['fun'], label_counts['happy'], label_counts['sad'], label_counts['tragic']"
   ]
  },
  {
   "cell_type": "markdown",
   "metadata": {},
   "source": [
    "### Possible Scraping of Comments"
   ]
  },
  {
   "cell_type": "code",
   "execution_count": null,
   "metadata": {},
   "outputs": [],
   "source": []
  }
 ],
 "metadata": {
  "kernelspec": {
   "display_name": "Python 3",
   "language": "python",
   "name": "python3"
  },
  "language_info": {
   "codemirror_mode": {
    "name": "ipython",
    "version": 3
   },
   "file_extension": ".py",
   "mimetype": "text/x-python",
   "name": "python",
   "nbconvert_exporter": "python",
   "pygments_lexer": "ipython3",
   "version": "3.8.3"
  }
 },
 "nbformat": 4,
 "nbformat_minor": 4
}
