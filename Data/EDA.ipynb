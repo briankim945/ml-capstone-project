{
 "cells": [
  {
   "cell_type": "markdown",
   "metadata": {},
   "source": [
    "# Exploratory Data Analysis"
   ]
  },
  {
   "cell_type": "code",
   "execution_count": 1,
   "metadata": {},
   "outputs": [],
   "source": [
    "import numpy as np\n",
    "import pandas as pd\n",
    "import json\n",
    "import sys\n",
    "from PIL import Image\n",
    "import re\n",
    "import os\n",
    "import random"
   ]
  },
  {
   "cell_type": "markdown",
   "metadata": {},
   "source": [
    "## Pulling relevant data"
   ]
  },
  {
   "cell_type": "code",
   "execution_count": 2,
   "metadata": {},
   "outputs": [
    {
     "data": {
      "text/plain": [
       "10000"
      ]
     },
     "execution_count": 2,
     "metadata": {},
     "output_type": "execute_result"
    }
   ],
   "source": [
    "with open('data.json', 'r') as f:\n",
    "    data = json.load(f)\n",
    "\n",
    "book_links = data['books']\n",
    "shelf_links = data['shelves']\n",
    "shelf_values = data['shelf_values']\n",
    "len(shelf_values)"
   ]
  },
  {
   "cell_type": "markdown",
   "metadata": {},
   "source": [
    "## Exploring Word Possibilities"
   ]
  },
  {
   "cell_type": "markdown",
   "metadata": {},
   "source": [
    "Drawing inspiration from Emotion Detection and Sentiment Analysis of Images (https://faculty.cc.gatech.edu/~hays/7476/projects/Aditi_Vasavi.pdf) breaking down emotional groups into the six categories defined by the famous psychologist Ekman: Happiness, Sadness, Fear, Disgust, Anger and Surprise"
   ]
  },
  {
   "cell_type": "markdown",
   "metadata": {},
   "source": [
    "#### Trying to find synonyms using Natural Language Processing(NLTK) WordNet library"
   ]
  },
  {
   "cell_type": "code",
   "execution_count": 5,
   "metadata": {},
   "outputs": [
    {
     "name": "stderr",
     "output_type": "stream",
     "text": [
      "[nltk_data] Downloading package wordnet to\n",
      "[nltk_data]     /Users/briankim/nltk_data...\n"
     ]
    },
    {
     "data": {
      "text/plain": [
       "True"
      ]
     },
     "execution_count": 5,
     "metadata": {},
     "output_type": "execute_result"
    }
   ],
   "source": [
    "import nltk\n",
    "nltk.download('wordnet')"
   ]
  },
  {
   "cell_type": "code",
   "execution_count": 8,
   "metadata": {},
   "outputs": [
    {
     "name": "stdout",
     "output_type": "stream",
     "text": [
      "{'well-chosen', 'happy', 'glad', 'felicitous'}\n"
     ]
    }
   ],
   "source": [
    "#Checking synonym for the word \"travel\"\n",
    "from nltk.corpus import wordnet#Creating a list \n",
    "synonyms = []\n",
    "for syn in wordnet.synsets(\"happy\"):\n",
    "    for lm in syn.lemmas():\n",
    "             synonyms.append(lm.name())#adding into synonyms\n",
    "print (set(synonyms))"
   ]
  },
  {
   "cell_type": "code",
   "execution_count": 10,
   "metadata": {},
   "outputs": [
    {
     "name": "stdout",
     "output_type": "stream",
     "text": [
      "{'cheerful', 'transport', 'felicity', 'joy', 'recreate', 'enchant', 'gladden', 'chirk_up', 'joyousness', 'enrapture', 'pep_up', 'jolly_up', 'felicitous', 'delectation', 'revel', 'urge', 'cheer', 'barrack', 'hearten', 'enthrall', 'pleasure', 'ravish', 'rejoice', 'sunniness', 'upbeat', 'enjoy', 'joyfulness', 'please', 'exhort', 'cheerfulness', 'pollyannaish', 'embolden', 'jolly_along', 'urge_on', 'happy', 'sunshine', 'root_on', 'happiness', 'well-chosen', 'cheer_up', 'glad', 'enthral', 'inspire', 'delight', 'joyous'}\n"
     ]
    }
   ],
   "source": [
    "# Experimenting with getting a larger set\n",
    "synonyms = []\n",
    "word_set = [\"happiness\", \"happy\", \"joy\", \"joyous\", \"delight\", \"cheer\", \"cheerful\"]\n",
    "for word_target in word_set:\n",
    "    for syn in wordnet.synsets(word_target):\n",
    "        for lm in syn.lemmas():\n",
    "                 synonyms.append(lm.name())#adding into synonyms\n",
    "print (set(synonyms))"
   ]
  },
  {
   "cell_type": "code",
   "execution_count": 13,
   "metadata": {},
   "outputs": [
    {
     "data": {
      "text/plain": [
       "1966"
      ]
     },
     "execution_count": 13,
     "metadata": {},
     "output_type": "execute_result"
    }
   ],
   "source": [
    "sum(\n",
    "    [\n",
    "        1 for shelf in shelf_values if not set(shelf).isdisjoint(synonyms)\n",
    "    ]\n",
    ")"
   ]
  },
  {
   "cell_type": "code",
   "execution_count": null,
   "metadata": {},
   "outputs": [],
   "source": [
    "word_sets = [\n",
    "    [\"happiness\", \"happy\", \"joy\", \"joyous\", \"delight\", \"cheer\", \"cheerful\"],\n",
    "    [\"sadness\", \"sad\", \"unhappy\", \"unhappiness\"]\n",
    "]"
   ]
  },
  {
   "cell_type": "markdown",
   "metadata": {},
   "source": [
    "#### Trying to get synonyms using the Thesauras API"
   ]
  },
  {
   "cell_type": "code",
   "execution_count": 14,
   "metadata": {},
   "outputs": [],
   "source": [
    "import requests"
   ]
  },
  {
   "cell_type": "code",
   "execution_count": 16,
   "metadata": {},
   "outputs": [
    {
     "data": {
      "text/plain": [
       "'{\"error\": \"Missing API Key.\"}'"
      ]
     },
     "execution_count": 16,
     "metadata": {},
     "output_type": "execute_result"
    }
   ],
   "source": [
    "word = \"happiness\"\n",
    "response = requests.get(\"https://api.api-ninjas.com/v1/thesaurus?word=\" + word)\n",
    "\n",
    "response.text"
   ]
  },
  {
   "cell_type": "markdown",
   "metadata": {},
   "source": [
    "#### Trying to get synonyms by scraping Thesaurus.com"
   ]
  },
  {
   "cell_type": "code",
   "execution_count": 18,
   "metadata": {},
   "outputs": [],
   "source": [
    "from urllib.request import urlopen\n",
    "from bs4 import BeautifulSoup"
   ]
  },
  {
   "cell_type": "code",
   "execution_count": 19,
   "metadata": {},
   "outputs": [],
   "source": [
    "thes_url = \"https://www.thesaurus.com/browse/\""
   ]
  },
  {
   "cell_type": "code",
   "execution_count": 24,
   "metadata": {},
   "outputs": [],
   "source": [
    "def get_synonyms(url):\n",
    "    url = thes_url + word\n",
    "    page = urlopen(url)\n",
    "    html = page.read().decode(\"utf-8\")\n",
    "    soup = BeautifulSoup(html, \"html.parser\")\n",
    "\n",
    "    return [item.text for item in soup.findAll(\"div\", {\"data-testid\": \"word-grid-container\"})[0].findAll(\"a\")]"
   ]
  },
  {
   "cell_type": "code",
   "execution_count": 106,
   "metadata": {},
   "outputs": [],
   "source": [
    "super_words = [\n",
    "#     [\"happiness\", \"happy\", \"joy\", \"joyful\", \"fun\", \"cheer\", \"cheery\"],\n",
    "    [\"happiness\", \"happy\", \"joy\", \"joyful\", \"cheer\", \"cheery\"],\n",
    "    [\"sadness\", \"sad\", \"depress\", \"depressing\", \"tragic\", \"unhappy\", \"unhappiness\"],\n",
    "    [\"fear\", \"afraid\", \"wary\", \"scary\", \"scare\", \"fearful\", \"intimidate\", \"intimidating\"],\n",
    "    [\"disgust\", \"disgusting\", \"gross\", \"icky\"],\n",
    "    [\"anger\", \"angry\", \"rage\", \"wrath\", \"wrathful\"]\n",
    "]"
   ]
  },
  {
   "cell_type": "code",
   "execution_count": 107,
   "metadata": {},
   "outputs": [
    {
     "name": "stdout",
     "output_type": "stream",
     "text": [
      "['happiness', 'happy', 'joy', 'joyful', 'cheer', 'cheery']\n",
      "47/47\n",
      "49/49\n",
      "49/49\n",
      "36/36\n",
      "26/26\n",
      "5/5\n",
      "164\n",
      "['sadness', 'sad', 'depress', 'depressing', 'tragic', 'unhappy', 'unhappiness']\n",
      "43/43\n",
      "49/49\n",
      "56/56\n",
      "21/21\n",
      "43/43\n",
      "45/45\n",
      "9/9\n",
      "224\n",
      "['fear', 'afraid', 'wary', 'scary', 'scare', 'fearful', 'intimidate', 'intimidating']\n",
      "49/49\n",
      "44/44\n",
      "37/37\n",
      "14/14\n",
      "7/7\n",
      "49/49\n",
      "40/40\n",
      "6/6\n",
      "231\n",
      "['disgust', 'disgusting', 'gross', 'icky']\n",
      "22/22\n",
      "47/47\n",
      "14/14\n",
      "10/10\n",
      "90\n",
      "['anger', 'angry', 'rage', 'wrath', 'wrathful']\n",
      "48/48\n",
      "53/53\n",
      "52/52\n",
      "26/26\n",
      "17/17\n",
      "152\n"
     ]
    }
   ],
   "source": [
    "syn_sets = []\n",
    "\n",
    "for super_word_set in super_words:\n",
    "    print(super_word_set)\n",
    "    syn_set = set(super_word_set)\n",
    "    for word in super_word_set:\n",
    "        synonyms = get_synonyms(thes_url + word)\n",
    "        tmp_synonyms = []\n",
    "        \n",
    "        for i, synonym in enumerate(synonyms):\n",
    "            sys.stdout.write(\"\\r\" + str(i + 1) + \"/\" + str(len(synonyms)))\n",
    "            sys.stdout.flush()\n",
    "            tmp_synonyms.extend(get_synonyms(thes_url + synonym))\n",
    "        \n",
    "        \n",
    "        syn_set.update(synonyms)\n",
    "        syn_set.update(tmp_synonyms)\n",
    "#         print(\" \", len(tmp_synonyms), len(set(tmp_synonyms)), len(syn_set), len(set(synonyms + tmp_synonyms)))\n",
    "        print()\n",
    "\n",
    "    print(len(syn_set))\n",
    "    syn_sets.append(syn_set)"
   ]
  },
  {
   "cell_type": "code",
   "execution_count": 108,
   "metadata": {},
   "outputs": [
    {
     "data": {
      "text/plain": [
       "5"
      ]
     },
     "execution_count": 108,
     "metadata": {},
     "output_type": "execute_result"
    }
   ],
   "source": [
    "len(syn_sets)"
   ]
  },
  {
   "cell_type": "code",
   "execution_count": 109,
   "metadata": {},
   "outputs": [
    {
     "data": {
      "text/plain": [
       "[164, 224, 231, 90, 152]"
      ]
     },
     "execution_count": 109,
     "metadata": {},
     "output_type": "execute_result"
    }
   ],
   "source": [
    "[len(syn_set) for syn_set in syn_sets]"
   ]
  },
  {
   "cell_type": "code",
   "execution_count": 110,
   "metadata": {},
   "outputs": [
    {
     "data": {
      "text/plain": [
       "[316, 2392, 852, 58, 38]"
      ]
     },
     "execution_count": 110,
     "metadata": {},
     "output_type": "execute_result"
    }
   ],
   "source": [
    "[\n",
    "    sum(\n",
    "        [\n",
    "            1 for shelf in shelf_values if not set(shelf).isdisjoint(list(syn_set))\n",
    "        ]\n",
    "    ) for syn_set in syn_sets\n",
    "]"
   ]
  },
  {
   "cell_type": "code",
   "execution_count": 111,
   "metadata": {},
   "outputs": [
    {
     "data": {
      "text/plain": [
       "3290"
      ]
     },
     "execution_count": 111,
     "metadata": {},
     "output_type": "execute_result"
    }
   ],
   "source": [
    "sum(\n",
    "    [\n",
    "        1 for shelf in shelf_values if any(\n",
    "            [\n",
    "                not set(shelf).isdisjoint(list(syn_set)) for syn_set in syn_sets\n",
    "            ]\n",
    "        )\n",
    "    ]\n",
    ")"
   ]
  },
  {
   "cell_type": "code",
   "execution_count": 112,
   "metadata": {},
   "outputs": [
    {
     "data": {
      "text/plain": [
       "3290"
      ]
     },
     "execution_count": 112,
     "metadata": {},
     "output_type": "execute_result"
    }
   ],
   "source": [
    "# Counting duplicate occurrences\n",
    "# sum(\n",
    "#     [\n",
    "#         1 for shelf in shelf_values if sum(\n",
    "#             [\n",
    "#                 1 for syn_set in syn_sets if not set(shelf).isdisjoint(list(syn_set))\n",
    "#             ]\n",
    "#         ) > 1\n",
    "#     ]\n",
    "# )\n",
    "\n",
    "multiples = []\n",
    "\n",
    "for i in range(len(book_links)):\n",
    "    shelf = shelf_values[i]\n",
    "    multiple_value = []\n",
    "    for j, syn_set in enumerate(syn_sets):\n",
    "        overlap = next((shelf_val for shelf_val in shelf if shelf_val in syn_set), None)\n",
    "        if overlap is not None:\n",
    "            multiple_value.append([j, overlap])\n",
    "    if len(multiple_value) > 0:\n",
    "        multiples.append(multiple_value)\n",
    "            \n",
    "len(multiples)"
   ]
  },
  {
   "cell_type": "code",
   "execution_count": 113,
   "metadata": {},
   "outputs": [
    {
     "data": {
      "text/plain": [
       "(350, 8, 0)"
      ]
     },
     "execution_count": 113,
     "metadata": {},
     "output_type": "execute_result"
    }
   ],
   "source": [
    "sum([1 for multiple in multiples if len(multiple) == 2]), sum([1 for multiple in multiples if len(multiple) == 3]), sum([1 for multiple in multiples if len(multiple) == 4])"
   ]
  },
  {
   "cell_type": "code",
   "execution_count": 114,
   "metadata": {},
   "outputs": [
    {
     "data": {
      "text/plain": [
       "16"
      ]
     },
     "execution_count": 114,
     "metadata": {},
     "output_type": "execute_result"
    }
   ],
   "source": [
    "combinations = {}\n",
    "\n",
    "for multiple in multiples:\n",
    "    string = \"\"\n",
    "    for item in multiple:\n",
    "        string += str(item[0])\n",
    "    if string in combinations:\n",
    "        combinations[string] += 1\n",
    "    else:\n",
    "        combinations[string] = 1\n",
    "\n",
    "len(combinations)"
   ]
  },
  {
   "cell_type": "code",
   "execution_count": 115,
   "metadata": {},
   "outputs": [
    {
     "data": {
      "text/plain": [
       "{'1': 2062,\n",
       " '2': 568,\n",
       " '12': 251,\n",
       " '0': 257,\n",
       " '01': 50,\n",
       " '124': 2,\n",
       " '3': 23,\n",
       " '23': 16,\n",
       " '4': 22,\n",
       " '14': 9,\n",
       " '123': 6,\n",
       " '24': 3,\n",
       " '13': 12,\n",
       " '02': 6,\n",
       " '04': 2,\n",
       " '03': 1}"
      ]
     },
     "execution_count": 115,
     "metadata": {},
     "output_type": "execute_result"
    }
   ],
   "source": [
    "combinations"
   ]
  },
  {
   "cell_type": "code",
   "execution_count": 116,
   "metadata": {},
   "outputs": [],
   "source": [
    "y_classes = []\n",
    "vals = []\n",
    "\n",
    "for shelf in shelf_values:\n",
    "    val = next((shelf_val for shelf_val in shelf if any([shelf_val in syn_set for syn_set in syn_sets])), -1)\n",
    "    vals.append(val)\n",
    "    if val == -1:\n",
    "        y_classes.append(val)\n",
    "    else:\n",
    "        y_classes.append(syn_sets.index(next((syn_set for syn_set in syn_sets if val in syn_set))))"
   ]
  },
  {
   "cell_type": "code",
   "execution_count": 117,
   "metadata": {},
   "outputs": [
    {
     "data": {
      "text/plain": [
       "10000"
      ]
     },
     "execution_count": 117,
     "metadata": {},
     "output_type": "execute_result"
    }
   ],
   "source": [
    "len(y_classes)"
   ]
  },
  {
   "cell_type": "code",
   "execution_count": 118,
   "metadata": {},
   "outputs": [
    {
     "data": {
      "text/plain": [
       "3290"
      ]
     },
     "execution_count": 118,
     "metadata": {},
     "output_type": "execute_result"
    }
   ],
   "source": [
    "sum([1 for y_class in y_classes if y_class > -1])"
   ]
  },
  {
   "cell_type": "code",
   "execution_count": 119,
   "metadata": {},
   "outputs": [
    {
     "data": {
      "text/plain": [
       "0"
      ]
     },
     "execution_count": 119,
     "metadata": {},
     "output_type": "execute_result"
    }
   ],
   "source": [
    "sum([1 for val in vals if val == 'fun'])"
   ]
  },
  {
   "cell_type": "code",
   "execution_count": 120,
   "metadata": {},
   "outputs": [
    {
     "data": {
      "text/plain": [
       "1790"
      ]
     },
     "execution_count": 120,
     "metadata": {},
     "output_type": "execute_result"
    }
   ],
   "source": [
    "sum([1 for val in vals if val == 'sad'])"
   ]
  },
  {
   "cell_type": "code",
   "execution_count": 121,
   "metadata": {},
   "outputs": [],
   "source": [
    "data = []\n",
    "\n",
    "for i, y_class in enumerate(y_classes):\n",
    "    data.append([str(i) + \".jpg\", y_class])\n",
    "\n",
    "with open('data_classes.json', 'w', encoding='utf-8') as f:\n",
    "    json.dump(data, f, ensure_ascii=False, indent=4)"
   ]
  },
  {
   "cell_type": "code",
   "execution_count": null,
   "metadata": {},
   "outputs": [],
   "source": []
  }
 ],
 "metadata": {
  "kernelspec": {
   "display_name": "Python 3",
   "language": "python",
   "name": "python3"
  },
  "language_info": {
   "codemirror_mode": {
    "name": "ipython",
    "version": 3
   },
   "file_extension": ".py",
   "mimetype": "text/x-python",
   "name": "python",
   "nbconvert_exporter": "python",
   "pygments_lexer": "ipython3",
   "version": "3.8.3"
  }
 },
 "nbformat": 4,
 "nbformat_minor": 4
}
